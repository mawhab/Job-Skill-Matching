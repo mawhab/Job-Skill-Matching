{
 "cells": [
  {
   "cell_type": "code",
   "execution_count": 1,
   "metadata": {
    "_cell_guid": "b1076dfc-b9ad-4769-8c92-a6c4dae69d19",
    "_uuid": "8f2839f25d086af736a60e9eeb907d3b93b6e0e5",
    "execution": {
     "iopub.execute_input": "2025-05-27T12:58:42.592599Z",
     "iopub.status.busy": "2025-05-27T12:58:42.591858Z",
     "iopub.status.idle": "2025-05-27T12:58:42.597356Z",
     "shell.execute_reply": "2025-05-27T12:58:42.596175Z",
     "shell.execute_reply.started": "2025-05-27T12:58:42.592570Z"
    },
    "trusted": true
   },
   "outputs": [],
   "source": [
    "# !wget https://zenodo.org/records/15038364/files/TaskB.zip\n",
    "\n",
    "# # Unzip\n",
    "# !unzip TaskB.zip -d taskB\n",
    "\n",
    "# !wget https://ec.europa.eu/esco/download/ESCO%20dataset%20-%20v1.2.0%20-%20classification%20-%20en%20-%20csv.zip\n",
    "\n",
    "# !unzip 'ESCO dataset - v1.2.0 - classification - en - csv.zip' -d data"
   ]
  },
  {
   "cell_type": "code",
   "execution_count": null,
   "metadata": {
    "execution": {
     "iopub.execute_input": "2025-05-27T12:58:42.626637Z",
     "iopub.status.busy": "2025-05-27T12:58:42.626423Z",
     "iopub.status.idle": "2025-05-27T12:59:23.577603Z",
     "shell.execute_reply": "2025-05-27T12:59:23.576499Z",
     "shell.execute_reply.started": "2025-05-27T12:58:42.626619Z"
    },
    "trusted": true
   },
   "outputs": [
    {
     "name": "stderr",
     "output_type": "stream",
     "text": [
      "2025-05-27 12:58:57.996834: E external/local_xla/xla/stream_executor/cuda/cuda_fft.cc:477] Unable to register cuFFT factory: Attempting to register factory for plugin cuFFT when one has already been registered\n",
      "WARNING: All log messages before absl::InitializeLog() is called are written to STDERR\n",
      "E0000 00:00:1748350738.224217      35 cuda_dnn.cc:8310] Unable to register cuDNN factory: Attempting to register factory for plugin cuDNN when one has already been registered\n",
      "E0000 00:00:1748350738.290087      35 cuda_blas.cc:1418] Unable to register cuBLAS factory: Attempting to register factory for plugin cuBLAS when one has already been registered\n"
     ]
    }
   ],
   "source": [
    "import matplotlib.pyplot as plt\n",
    "from torch.utils.data import DataLoader\n",
    "import torch\n",
    "import torch.nn as nn\n",
    "import torch.nn.functional as F\n",
    "from transformers import AutoModel, AutoTokenizer, get_linear_schedule_with_warmup\n",
    "from sklearn.metrics import average_precision_score\n",
    "from tqdm import tqdm\n",
    "import random\n",
    "import pandas as pd\n",
    "import numpy as np\n",
    "import json\n",
    "import os\n",
    "import ast\n",
    "from sentence_transformers import SentenceTransformer, losses, SentenceTransformerTrainer\n",
    "from sentence_transformers.util import batch_to_device, cos_sim\n",
    "from datasets import Dataset\n",
    "import subprocess\n",
    "import difflib\n",
    "from functools import partial\n",
    "# from sklearn.model_selection import train_test_split\n",
    "# from kaggle_secrets import UserSecretsClient\n",
    "# user_secrets = UserSecretsClient()\n",
    "device = 'cuda' if torch.cuda.is_available() else 'cpu'\n",
    "# !git clone https://github.com/TalentCLEF/talentclef25_evaluation_script.git > /dev/null\n",
    "!pip install -r talentclef25_evaluation_script/requirements.txt > /dev/null\n",
    "encoder_type = 'esco'\n",
    "\n",
    "# # Set your HF token & username as environment variables\n",
    "# os.environ[\"HF_TOKEN\"] = user_secrets.get_secret(\"hf\")"
   ]
  },
  {
   "cell_type": "code",
   "execution_count": 3,
   "metadata": {
    "execution": {
     "iopub.execute_input": "2025-05-27T12:59:23.580423Z",
     "iopub.status.busy": "2025-05-27T12:59:23.579305Z",
     "iopub.status.idle": "2025-05-27T12:59:23.769644Z",
     "shell.execute_reply": "2025-05-27T12:59:23.768917Z",
     "shell.execute_reply.started": "2025-05-27T12:59:23.580396Z"
    },
    "trusted": true
   },
   "outputs": [
    {
     "data": {
      "text/html": [
       "<div>\n",
       "<style scoped>\n",
       "    .dataframe tbody tr th:only-of-type {\n",
       "        vertical-align: middle;\n",
       "    }\n",
       "\n",
       "    .dataframe tbody tr th {\n",
       "        vertical-align: top;\n",
       "    }\n",
       "\n",
       "    .dataframe thead th {\n",
       "        text-align: right;\n",
       "    }\n",
       "</style>\n",
       "<table border=\"1\" class=\"dataframe\">\n",
       "  <thead>\n",
       "    <tr style=\"text-align: right;\">\n",
       "      <th></th>\n",
       "      <th>conceptType</th>\n",
       "      <th>conceptUri</th>\n",
       "      <th>skillType</th>\n",
       "      <th>reuseLevel</th>\n",
       "      <th>preferredLabel</th>\n",
       "      <th>altLabels</th>\n",
       "      <th>hiddenLabels</th>\n",
       "      <th>status</th>\n",
       "      <th>modifiedDate</th>\n",
       "      <th>scopeNote</th>\n",
       "      <th>definition</th>\n",
       "      <th>inScheme</th>\n",
       "      <th>description</th>\n",
       "    </tr>\n",
       "  </thead>\n",
       "  <tbody>\n",
       "    <tr>\n",
       "      <th>0</th>\n",
       "      <td>KnowledgeSkillCompetence</td>\n",
       "      <td>http://data.europa.eu/esco/skill/0005c151-5b5a...</td>\n",
       "      <td>skill/competence</td>\n",
       "      <td>sector-specific</td>\n",
       "      <td>manage musical staff</td>\n",
       "      <td>manage staff of music\\ncoordinate duties of mu...</td>\n",
       "      <td>NaN</td>\n",
       "      <td>released</td>\n",
       "      <td>2023-11-30T15:53:37.136Z</td>\n",
       "      <td>NaN</td>\n",
       "      <td>NaN</td>\n",
       "      <td>http://data.europa.eu/esco/concept-scheme/skil...</td>\n",
       "      <td>Assign and manage staff tasks in areas such as...</td>\n",
       "    </tr>\n",
       "    <tr>\n",
       "      <th>1</th>\n",
       "      <td>KnowledgeSkillCompetence</td>\n",
       "      <td>http://data.europa.eu/esco/skill/00064735-8fad...</td>\n",
       "      <td>skill/competence</td>\n",
       "      <td>occupation-specific</td>\n",
       "      <td>supervise correctional procedures</td>\n",
       "      <td>oversee prison procedures\\nmanage correctional...</td>\n",
       "      <td>NaN</td>\n",
       "      <td>released</td>\n",
       "      <td>2023-11-30T15:04:00.689Z</td>\n",
       "      <td>NaN</td>\n",
       "      <td>NaN</td>\n",
       "      <td>http://data.europa.eu/esco/concept-scheme/memb...</td>\n",
       "      <td>Supervise the operations of a correctional fac...</td>\n",
       "    </tr>\n",
       "    <tr>\n",
       "      <th>2</th>\n",
       "      <td>KnowledgeSkillCompetence</td>\n",
       "      <td>http://data.europa.eu/esco/skill/000709ed-2be5...</td>\n",
       "      <td>skill/competence</td>\n",
       "      <td>sector-specific</td>\n",
       "      <td>apply anti-oppressive practices</td>\n",
       "      <td>apply non-oppressive practices\\napply an anti-...</td>\n",
       "      <td>NaN</td>\n",
       "      <td>released</td>\n",
       "      <td>2023-11-28T10:45:53.54Z</td>\n",
       "      <td>NaN</td>\n",
       "      <td>NaN</td>\n",
       "      <td>http://data.europa.eu/esco/concept-scheme/skil...</td>\n",
       "      <td>Identify oppression in societies, economies, c...</td>\n",
       "    </tr>\n",
       "    <tr>\n",
       "      <th>3</th>\n",
       "      <td>KnowledgeSkillCompetence</td>\n",
       "      <td>http://data.europa.eu/esco/skill/0007bdc2-dd15...</td>\n",
       "      <td>skill/competence</td>\n",
       "      <td>sector-specific</td>\n",
       "      <td>control compliance of railway vehicles regulat...</td>\n",
       "      <td>monitoring of compliance with railway vehicles...</td>\n",
       "      <td>NaN</td>\n",
       "      <td>released</td>\n",
       "      <td>2023-11-30T16:29:18.273Z</td>\n",
       "      <td>NaN</td>\n",
       "      <td>NaN</td>\n",
       "      <td>http://data.europa.eu/esco/concept-scheme/skil...</td>\n",
       "      <td>Inspect rolling stock, components and systems ...</td>\n",
       "    </tr>\n",
       "    <tr>\n",
       "      <th>4</th>\n",
       "      <td>KnowledgeSkillCompetence</td>\n",
       "      <td>http://data.europa.eu/esco/skill/00090cc1-1f27...</td>\n",
       "      <td>skill/competence</td>\n",
       "      <td>cross-sector</td>\n",
       "      <td>identify available services</td>\n",
       "      <td>establish available services\\ndetermine rehabi...</td>\n",
       "      <td>NaN</td>\n",
       "      <td>released</td>\n",
       "      <td>2023-11-28T10:38:49.206Z</td>\n",
       "      <td>NaN</td>\n",
       "      <td>NaN</td>\n",
       "      <td>http://data.europa.eu/esco/concept-scheme/memb...</td>\n",
       "      <td>Identify the different services available for ...</td>\n",
       "    </tr>\n",
       "    <tr>\n",
       "      <th>...</th>\n",
       "      <td>...</td>\n",
       "      <td>...</td>\n",
       "      <td>...</td>\n",
       "      <td>...</td>\n",
       "      <td>...</td>\n",
       "      <td>...</td>\n",
       "      <td>...</td>\n",
       "      <td>...</td>\n",
       "      <td>...</td>\n",
       "      <td>...</td>\n",
       "      <td>...</td>\n",
       "      <td>...</td>\n",
       "      <td>...</td>\n",
       "    </tr>\n",
       "    <tr>\n",
       "      <th>13934</th>\n",
       "      <td>KnowledgeSkillCompetence</td>\n",
       "      <td>http://data.europa.eu/esco/skill/ffef5eb3-a15e...</td>\n",
       "      <td>skill/competence</td>\n",
       "      <td>sector-specific</td>\n",
       "      <td>remediate healthcare user's occupational perfo...</td>\n",
       "      <td>restore healthcare user's occupational perform...</td>\n",
       "      <td>NaN</td>\n",
       "      <td>released</td>\n",
       "      <td>2024-02-09T17:29:15.235Z</td>\n",
       "      <td>NaN</td>\n",
       "      <td>NaN</td>\n",
       "      <td>http://data.europa.eu/esco/concept-scheme/memb...</td>\n",
       "      <td>Remediate or restore the cognitive, sensorimot...</td>\n",
       "    </tr>\n",
       "    <tr>\n",
       "      <th>13935</th>\n",
       "      <td>KnowledgeSkillCompetence</td>\n",
       "      <td>http://data.europa.eu/esco/skill/fff0b074-5a76...</td>\n",
       "      <td>skill/competence</td>\n",
       "      <td>sector-specific</td>\n",
       "      <td>install transport equipment lighting</td>\n",
       "      <td>install transport equipment illumination\\nfix ...</td>\n",
       "      <td>NaN</td>\n",
       "      <td>released</td>\n",
       "      <td>2024-02-09T17:29:14.494Z</td>\n",
       "      <td>NaN</td>\n",
       "      <td>NaN</td>\n",
       "      <td>http://data.europa.eu/esco/concept-scheme/skil...</td>\n",
       "      <td>Install lighting elements in transport equipme...</td>\n",
       "    </tr>\n",
       "    <tr>\n",
       "      <th>13936</th>\n",
       "      <td>KnowledgeSkillCompetence</td>\n",
       "      <td>http://data.europa.eu/esco/skill/fff0e2cd-d0bd...</td>\n",
       "      <td>knowledge</td>\n",
       "      <td>sector-specific</td>\n",
       "      <td>natural language processing</td>\n",
       "      <td>NLP</td>\n",
       "      <td>NaN</td>\n",
       "      <td>released</td>\n",
       "      <td>2024-02-09T17:29:15.235Z</td>\n",
       "      <td>NaN</td>\n",
       "      <td>NaN</td>\n",
       "      <td>http://data.europa.eu/esco/concept-scheme/skil...</td>\n",
       "      <td>The technologies which enable ICT devices to u...</td>\n",
       "    </tr>\n",
       "    <tr>\n",
       "      <th>13937</th>\n",
       "      <td>KnowledgeSkillCompetence</td>\n",
       "      <td>http://data.europa.eu/esco/skill/fff5bc45-b506...</td>\n",
       "      <td>skill/competence</td>\n",
       "      <td>cross-sector</td>\n",
       "      <td>coordinate construction activities</td>\n",
       "      <td>reviewing construction progress\\nconstruction ...</td>\n",
       "      <td>NaN</td>\n",
       "      <td>released</td>\n",
       "      <td>2024-02-09T17:29:13.7Z</td>\n",
       "      <td>NaN</td>\n",
       "      <td>NaN</td>\n",
       "      <td>http://data.europa.eu/esco/concept-scheme/skil...</td>\n",
       "      <td>Coordinate the activities of several construct...</td>\n",
       "    </tr>\n",
       "    <tr>\n",
       "      <th>13938</th>\n",
       "      <td>KnowledgeSkillCompetence</td>\n",
       "      <td>http://data.europa.eu/esco/skill/fff74a70-4f82...</td>\n",
       "      <td>skill/competence</td>\n",
       "      <td>cross-sector</td>\n",
       "      <td>position guardrails and toeboards</td>\n",
       "      <td>positioning guardrails and toeboards\\nattachme...</td>\n",
       "      <td>NaN</td>\n",
       "      <td>released</td>\n",
       "      <td>2024-02-09T17:29:10.678Z</td>\n",
       "      <td>NaN</td>\n",
       "      <td>NaN</td>\n",
       "      <td>http://data.europa.eu/esco/concept-scheme/skil...</td>\n",
       "      <td>Attach guardrails and toeboards to the scaffol...</td>\n",
       "    </tr>\n",
       "  </tbody>\n",
       "</table>\n",
       "<p>13939 rows × 13 columns</p>\n",
       "</div>"
      ],
      "text/plain": [
       "                    conceptType  \\\n",
       "0      KnowledgeSkillCompetence   \n",
       "1      KnowledgeSkillCompetence   \n",
       "2      KnowledgeSkillCompetence   \n",
       "3      KnowledgeSkillCompetence   \n",
       "4      KnowledgeSkillCompetence   \n",
       "...                         ...   \n",
       "13934  KnowledgeSkillCompetence   \n",
       "13935  KnowledgeSkillCompetence   \n",
       "13936  KnowledgeSkillCompetence   \n",
       "13937  KnowledgeSkillCompetence   \n",
       "13938  KnowledgeSkillCompetence   \n",
       "\n",
       "                                              conceptUri         skillType  \\\n",
       "0      http://data.europa.eu/esco/skill/0005c151-5b5a...  skill/competence   \n",
       "1      http://data.europa.eu/esco/skill/00064735-8fad...  skill/competence   \n",
       "2      http://data.europa.eu/esco/skill/000709ed-2be5...  skill/competence   \n",
       "3      http://data.europa.eu/esco/skill/0007bdc2-dd15...  skill/competence   \n",
       "4      http://data.europa.eu/esco/skill/00090cc1-1f27...  skill/competence   \n",
       "...                                                  ...               ...   \n",
       "13934  http://data.europa.eu/esco/skill/ffef5eb3-a15e...  skill/competence   \n",
       "13935  http://data.europa.eu/esco/skill/fff0b074-5a76...  skill/competence   \n",
       "13936  http://data.europa.eu/esco/skill/fff0e2cd-d0bd...         knowledge   \n",
       "13937  http://data.europa.eu/esco/skill/fff5bc45-b506...  skill/competence   \n",
       "13938  http://data.europa.eu/esco/skill/fff74a70-4f82...  skill/competence   \n",
       "\n",
       "                reuseLevel                                     preferredLabel  \\\n",
       "0          sector-specific                               manage musical staff   \n",
       "1      occupation-specific                  supervise correctional procedures   \n",
       "2          sector-specific                    apply anti-oppressive practices   \n",
       "3          sector-specific  control compliance of railway vehicles regulat...   \n",
       "4             cross-sector                        identify available services   \n",
       "...                    ...                                                ...   \n",
       "13934      sector-specific  remediate healthcare user's occupational perfo...   \n",
       "13935      sector-specific               install transport equipment lighting   \n",
       "13936      sector-specific                        natural language processing   \n",
       "13937         cross-sector                 coordinate construction activities   \n",
       "13938         cross-sector                  position guardrails and toeboards   \n",
       "\n",
       "                                               altLabels hiddenLabels  \\\n",
       "0      manage staff of music\\ncoordinate duties of mu...          NaN   \n",
       "1      oversee prison procedures\\nmanage correctional...          NaN   \n",
       "2      apply non-oppressive practices\\napply an anti-...          NaN   \n",
       "3      monitoring of compliance with railway vehicles...          NaN   \n",
       "4      establish available services\\ndetermine rehabi...          NaN   \n",
       "...                                                  ...          ...   \n",
       "13934  restore healthcare user's occupational perform...          NaN   \n",
       "13935  install transport equipment illumination\\nfix ...          NaN   \n",
       "13936                                                NLP          NaN   \n",
       "13937  reviewing construction progress\\nconstruction ...          NaN   \n",
       "13938  positioning guardrails and toeboards\\nattachme...          NaN   \n",
       "\n",
       "         status              modifiedDate scopeNote definition  \\\n",
       "0      released  2023-11-30T15:53:37.136Z       NaN        NaN   \n",
       "1      released  2023-11-30T15:04:00.689Z       NaN        NaN   \n",
       "2      released   2023-11-28T10:45:53.54Z       NaN        NaN   \n",
       "3      released  2023-11-30T16:29:18.273Z       NaN        NaN   \n",
       "4      released  2023-11-28T10:38:49.206Z       NaN        NaN   \n",
       "...         ...                       ...       ...        ...   \n",
       "13934  released  2024-02-09T17:29:15.235Z       NaN        NaN   \n",
       "13935  released  2024-02-09T17:29:14.494Z       NaN        NaN   \n",
       "13936  released  2024-02-09T17:29:15.235Z       NaN        NaN   \n",
       "13937  released    2024-02-09T17:29:13.7Z       NaN        NaN   \n",
       "13938  released  2024-02-09T17:29:10.678Z       NaN        NaN   \n",
       "\n",
       "                                                inScheme  \\\n",
       "0      http://data.europa.eu/esco/concept-scheme/skil...   \n",
       "1      http://data.europa.eu/esco/concept-scheme/memb...   \n",
       "2      http://data.europa.eu/esco/concept-scheme/skil...   \n",
       "3      http://data.europa.eu/esco/concept-scheme/skil...   \n",
       "4      http://data.europa.eu/esco/concept-scheme/memb...   \n",
       "...                                                  ...   \n",
       "13934  http://data.europa.eu/esco/concept-scheme/memb...   \n",
       "13935  http://data.europa.eu/esco/concept-scheme/skil...   \n",
       "13936  http://data.europa.eu/esco/concept-scheme/skil...   \n",
       "13937  http://data.europa.eu/esco/concept-scheme/skil...   \n",
       "13938  http://data.europa.eu/esco/concept-scheme/skil...   \n",
       "\n",
       "                                             description  \n",
       "0      Assign and manage staff tasks in areas such as...  \n",
       "1      Supervise the operations of a correctional fac...  \n",
       "2      Identify oppression in societies, economies, c...  \n",
       "3      Inspect rolling stock, components and systems ...  \n",
       "4      Identify the different services available for ...  \n",
       "...                                                  ...  \n",
       "13934  Remediate or restore the cognitive, sensorimot...  \n",
       "13935  Install lighting elements in transport equipme...  \n",
       "13936  The technologies which enable ICT devices to u...  \n",
       "13937  Coordinate the activities of several construct...  \n",
       "13938  Attach guardrails and toeboards to the scaffol...  \n",
       "\n",
       "[13939 rows x 13 columns]"
      ]
     },
     "execution_count": 3,
     "metadata": {},
     "output_type": "execute_result"
    }
   ],
   "source": [
    "df_esco_skills = pd.read_csv('data/skills_en.csv')\n",
    "df_esco_skills"
   ]
  },
  {
   "cell_type": "code",
   "execution_count": 4,
   "metadata": {
    "execution": {
     "iopub.execute_input": "2025-05-27T12:59:23.770542Z",
     "iopub.status.busy": "2025-05-27T12:59:23.770294Z",
     "iopub.status.idle": "2025-05-27T12:59:23.829510Z",
     "shell.execute_reply": "2025-05-27T12:59:23.828857Z",
     "shell.execute_reply.started": "2025-05-27T12:59:23.770523Z"
    },
    "trusted": true
   },
   "outputs": [
    {
     "data": {
      "text/html": [
       "<div>\n",
       "<style scoped>\n",
       "    .dataframe tbody tr th:only-of-type {\n",
       "        vertical-align: middle;\n",
       "    }\n",
       "\n",
       "    .dataframe tbody tr th {\n",
       "        vertical-align: top;\n",
       "    }\n",
       "\n",
       "    .dataframe thead th {\n",
       "        text-align: right;\n",
       "    }\n",
       "</style>\n",
       "<table border=\"1\" class=\"dataframe\">\n",
       "  <thead>\n",
       "    <tr style=\"text-align: right;\">\n",
       "      <th></th>\n",
       "      <th>conceptType</th>\n",
       "      <th>conceptUri</th>\n",
       "      <th>iscoGroup</th>\n",
       "      <th>preferredLabel</th>\n",
       "      <th>altLabels</th>\n",
       "      <th>hiddenLabels</th>\n",
       "      <th>status</th>\n",
       "      <th>modifiedDate</th>\n",
       "      <th>regulatedProfessionNote</th>\n",
       "      <th>scopeNote</th>\n",
       "      <th>definition</th>\n",
       "      <th>inScheme</th>\n",
       "      <th>description</th>\n",
       "      <th>code</th>\n",
       "    </tr>\n",
       "  </thead>\n",
       "  <tbody>\n",
       "    <tr>\n",
       "      <th>0</th>\n",
       "      <td>Occupation</td>\n",
       "      <td>http://data.europa.eu/esco/occupation/00030d09...</td>\n",
       "      <td>2654</td>\n",
       "      <td>technical director</td>\n",
       "      <td>technical and operations director\\nhead of tec...</td>\n",
       "      <td>NaN</td>\n",
       "      <td>released</td>\n",
       "      <td>2024-01-25T11:28:50.295Z</td>\n",
       "      <td>http://data.europa.eu/esco/regulated-professio...</td>\n",
       "      <td>NaN</td>\n",
       "      <td>NaN</td>\n",
       "      <td>http://data.europa.eu/esco/concept-scheme/occu...</td>\n",
       "      <td>Technical directors realise the artistic visio...</td>\n",
       "      <td>2654.1.7</td>\n",
       "    </tr>\n",
       "    <tr>\n",
       "      <th>1</th>\n",
       "      <td>Occupation</td>\n",
       "      <td>http://data.europa.eu/esco/occupation/000e93a3...</td>\n",
       "      <td>8121</td>\n",
       "      <td>metal drawing machine operator</td>\n",
       "      <td>metal drawing machine technician\\nmetal drawin...</td>\n",
       "      <td>NaN</td>\n",
       "      <td>released</td>\n",
       "      <td>2024-01-23T10:09:32.099Z</td>\n",
       "      <td>http://data.europa.eu/esco/regulated-professio...</td>\n",
       "      <td>NaN</td>\n",
       "      <td>NaN</td>\n",
       "      <td>http://data.europa.eu/esco/concept-scheme/memb...</td>\n",
       "      <td>Metal drawing machine operators set up and ope...</td>\n",
       "      <td>8121.4</td>\n",
       "    </tr>\n",
       "    <tr>\n",
       "      <th>2</th>\n",
       "      <td>Occupation</td>\n",
       "      <td>http://data.europa.eu/esco/occupation/0019b951...</td>\n",
       "      <td>7543</td>\n",
       "      <td>precision device inspector</td>\n",
       "      <td>inspector of precision instruments\\nprecision ...</td>\n",
       "      <td>NaN</td>\n",
       "      <td>released</td>\n",
       "      <td>2024-01-25T15:00:12.188Z</td>\n",
       "      <td>http://data.europa.eu/esco/regulated-professio...</td>\n",
       "      <td>NaN</td>\n",
       "      <td>NaN</td>\n",
       "      <td>http://data.europa.eu/esco/concept-scheme/occu...</td>\n",
       "      <td>Precision device inspectors make sure precisio...</td>\n",
       "      <td>7543.10.3</td>\n",
       "    </tr>\n",
       "    <tr>\n",
       "      <th>3</th>\n",
       "      <td>Occupation</td>\n",
       "      <td>http://data.europa.eu/esco/occupation/0022f466...</td>\n",
       "      <td>3155</td>\n",
       "      <td>air traffic safety technician</td>\n",
       "      <td>air traffic safety electronics hardware specia...</td>\n",
       "      <td>NaN</td>\n",
       "      <td>released</td>\n",
       "      <td>2024-01-29T16:01:13.998Z</td>\n",
       "      <td>http://data.europa.eu/esco/regulated-professio...</td>\n",
       "      <td>NaN</td>\n",
       "      <td>NaN</td>\n",
       "      <td>http://data.europa.eu/esco/concept-scheme/memb...</td>\n",
       "      <td>Air traffic safety technicians provide technic...</td>\n",
       "      <td>3155.1</td>\n",
       "    </tr>\n",
       "    <tr>\n",
       "      <th>4</th>\n",
       "      <td>Occupation</td>\n",
       "      <td>http://data.europa.eu/esco/occupation/002da35b...</td>\n",
       "      <td>2431</td>\n",
       "      <td>hospitality revenue manager</td>\n",
       "      <td>hospitality revenues manager\\nyield manager\\nh...</td>\n",
       "      <td>NaN</td>\n",
       "      <td>released</td>\n",
       "      <td>2024-01-11T10:28:45.871Z</td>\n",
       "      <td>http://data.europa.eu/esco/regulated-professio...</td>\n",
       "      <td>NaN</td>\n",
       "      <td>NaN</td>\n",
       "      <td>http://data.europa.eu/esco/concept-scheme/memb...</td>\n",
       "      <td>Hospitality revenue managers maximise revenue ...</td>\n",
       "      <td>2431.9</td>\n",
       "    </tr>\n",
       "    <tr>\n",
       "      <th>...</th>\n",
       "      <td>...</td>\n",
       "      <td>...</td>\n",
       "      <td>...</td>\n",
       "      <td>...</td>\n",
       "      <td>...</td>\n",
       "      <td>...</td>\n",
       "      <td>...</td>\n",
       "      <td>...</td>\n",
       "      <td>...</td>\n",
       "      <td>...</td>\n",
       "      <td>...</td>\n",
       "      <td>...</td>\n",
       "      <td>...</td>\n",
       "      <td>...</td>\n",
       "    </tr>\n",
       "    <tr>\n",
       "      <th>3034</th>\n",
       "      <td>Occupation</td>\n",
       "      <td>http://data.europa.eu/esco/occupation/ff656b3a...</td>\n",
       "      <td>2120</td>\n",
       "      <td>demographer</td>\n",
       "      <td>demography research analyst\\ndemography studie...</td>\n",
       "      <td>NaN</td>\n",
       "      <td>released</td>\n",
       "      <td>2024-01-23T10:55:28.923Z</td>\n",
       "      <td>http://data.europa.eu/esco/regulated-professio...</td>\n",
       "      <td>NaN</td>\n",
       "      <td>NaN</td>\n",
       "      <td>http://data.europa.eu/esco/concept-scheme/8ae4...</td>\n",
       "      <td>Demographers study a variety of parameters rel...</td>\n",
       "      <td>2120.2</td>\n",
       "    </tr>\n",
       "    <tr>\n",
       "      <th>3035</th>\n",
       "      <td>Occupation</td>\n",
       "      <td>http://data.europa.eu/esco/occupation/ff8d4065...</td>\n",
       "      <td>9612</td>\n",
       "      <td>sorter labourer</td>\n",
       "      <td>sorter laborer\\ngrader\\nyard labourer\\nrecycle...</td>\n",
       "      <td>NaN</td>\n",
       "      <td>released</td>\n",
       "      <td>2024-01-16T11:18:17.704Z</td>\n",
       "      <td>http://data.europa.eu/esco/regulated-professio...</td>\n",
       "      <td>NaN</td>\n",
       "      <td>NaN</td>\n",
       "      <td>http://data.europa.eu/esco/concept-scheme/memb...</td>\n",
       "      <td>Sorter labourers sort recyclable materials and...</td>\n",
       "      <td>9612.2</td>\n",
       "    </tr>\n",
       "    <tr>\n",
       "      <th>3036</th>\n",
       "      <td>Occupation</td>\n",
       "      <td>http://data.europa.eu/esco/occupation/ffa4dd5d...</td>\n",
       "      <td>5414</td>\n",
       "      <td>armoured car guard</td>\n",
       "      <td>armoured truck escort\\ntruck escort\\narmored c...</td>\n",
       "      <td>NaN</td>\n",
       "      <td>released</td>\n",
       "      <td>2022-01-13T09:51:50.643Z</td>\n",
       "      <td>http://data.europa.eu/esco/regulated-professio...</td>\n",
       "      <td>NaN</td>\n",
       "      <td>NaN</td>\n",
       "      <td>http://data.europa.eu/esco/concept-scheme/occu...</td>\n",
       "      <td>Armoured car guards ensure the safe transporta...</td>\n",
       "      <td>5414.1.2</td>\n",
       "    </tr>\n",
       "    <tr>\n",
       "      <th>3037</th>\n",
       "      <td>Occupation</td>\n",
       "      <td>http://data.europa.eu/esco/occupation/ffade2f4...</td>\n",
       "      <td>2422</td>\n",
       "      <td>civil service administrative officer</td>\n",
       "      <td>government administrative officer\\nlocal autho...</td>\n",
       "      <td>NaN</td>\n",
       "      <td>released</td>\n",
       "      <td>2024-01-16T14:38:39.909Z</td>\n",
       "      <td>http://data.europa.eu/esco/regulated-professio...</td>\n",
       "      <td>NaN</td>\n",
       "      <td>NaN</td>\n",
       "      <td>http://data.europa.eu/esco/concept-scheme/occu...</td>\n",
       "      <td>Civil service administrative officers perform ...</td>\n",
       "      <td>2422.1</td>\n",
       "    </tr>\n",
       "    <tr>\n",
       "      <th>3038</th>\n",
       "      <td>Occupation</td>\n",
       "      <td>http://data.europa.eu/esco/occupation/ffc292f1...</td>\n",
       "      <td>8211</td>\n",
       "      <td>motor vehicle assembler</td>\n",
       "      <td>automobile assembler\\ntruck builder\\nmotor veh...</td>\n",
       "      <td>NaN</td>\n",
       "      <td>released</td>\n",
       "      <td>2024-01-26T14:50:33.322Z</td>\n",
       "      <td>http://data.europa.eu/esco/regulated-professio...</td>\n",
       "      <td>NaN</td>\n",
       "      <td>NaN</td>\n",
       "      <td>http://data.europa.eu/esco/concept-scheme/memb...</td>\n",
       "      <td>Motor vehicle assemblers install and put prefa...</td>\n",
       "      <td>8211.5</td>\n",
       "    </tr>\n",
       "  </tbody>\n",
       "</table>\n",
       "<p>3039 rows × 14 columns</p>\n",
       "</div>"
      ],
      "text/plain": [
       "     conceptType                                         conceptUri  \\\n",
       "0     Occupation  http://data.europa.eu/esco/occupation/00030d09...   \n",
       "1     Occupation  http://data.europa.eu/esco/occupation/000e93a3...   \n",
       "2     Occupation  http://data.europa.eu/esco/occupation/0019b951...   \n",
       "3     Occupation  http://data.europa.eu/esco/occupation/0022f466...   \n",
       "4     Occupation  http://data.europa.eu/esco/occupation/002da35b...   \n",
       "...          ...                                                ...   \n",
       "3034  Occupation  http://data.europa.eu/esco/occupation/ff656b3a...   \n",
       "3035  Occupation  http://data.europa.eu/esco/occupation/ff8d4065...   \n",
       "3036  Occupation  http://data.europa.eu/esco/occupation/ffa4dd5d...   \n",
       "3037  Occupation  http://data.europa.eu/esco/occupation/ffade2f4...   \n",
       "3038  Occupation  http://data.europa.eu/esco/occupation/ffc292f1...   \n",
       "\n",
       "      iscoGroup                        preferredLabel  \\\n",
       "0          2654                    technical director   \n",
       "1          8121        metal drawing machine operator   \n",
       "2          7543            precision device inspector   \n",
       "3          3155         air traffic safety technician   \n",
       "4          2431           hospitality revenue manager   \n",
       "...         ...                                   ...   \n",
       "3034       2120                           demographer   \n",
       "3035       9612                       sorter labourer   \n",
       "3036       5414                    armoured car guard   \n",
       "3037       2422  civil service administrative officer   \n",
       "3038       8211               motor vehicle assembler   \n",
       "\n",
       "                                              altLabels hiddenLabels  \\\n",
       "0     technical and operations director\\nhead of tec...          NaN   \n",
       "1     metal drawing machine technician\\nmetal drawin...          NaN   \n",
       "2     inspector of precision instruments\\nprecision ...          NaN   \n",
       "3     air traffic safety electronics hardware specia...          NaN   \n",
       "4     hospitality revenues manager\\nyield manager\\nh...          NaN   \n",
       "...                                                 ...          ...   \n",
       "3034  demography research analyst\\ndemography studie...          NaN   \n",
       "3035  sorter laborer\\ngrader\\nyard labourer\\nrecycle...          NaN   \n",
       "3036  armoured truck escort\\ntruck escort\\narmored c...          NaN   \n",
       "3037  government administrative officer\\nlocal autho...          NaN   \n",
       "3038  automobile assembler\\ntruck builder\\nmotor veh...          NaN   \n",
       "\n",
       "        status              modifiedDate  \\\n",
       "0     released  2024-01-25T11:28:50.295Z   \n",
       "1     released  2024-01-23T10:09:32.099Z   \n",
       "2     released  2024-01-25T15:00:12.188Z   \n",
       "3     released  2024-01-29T16:01:13.998Z   \n",
       "4     released  2024-01-11T10:28:45.871Z   \n",
       "...        ...                       ...   \n",
       "3034  released  2024-01-23T10:55:28.923Z   \n",
       "3035  released  2024-01-16T11:18:17.704Z   \n",
       "3036  released  2022-01-13T09:51:50.643Z   \n",
       "3037  released  2024-01-16T14:38:39.909Z   \n",
       "3038  released  2024-01-26T14:50:33.322Z   \n",
       "\n",
       "                                regulatedProfessionNote scopeNote definition  \\\n",
       "0     http://data.europa.eu/esco/regulated-professio...       NaN        NaN   \n",
       "1     http://data.europa.eu/esco/regulated-professio...       NaN        NaN   \n",
       "2     http://data.europa.eu/esco/regulated-professio...       NaN        NaN   \n",
       "3     http://data.europa.eu/esco/regulated-professio...       NaN        NaN   \n",
       "4     http://data.europa.eu/esco/regulated-professio...       NaN        NaN   \n",
       "...                                                 ...       ...        ...   \n",
       "3034  http://data.europa.eu/esco/regulated-professio...       NaN        NaN   \n",
       "3035  http://data.europa.eu/esco/regulated-professio...       NaN        NaN   \n",
       "3036  http://data.europa.eu/esco/regulated-professio...       NaN        NaN   \n",
       "3037  http://data.europa.eu/esco/regulated-professio...       NaN        NaN   \n",
       "3038  http://data.europa.eu/esco/regulated-professio...       NaN        NaN   \n",
       "\n",
       "                                               inScheme  \\\n",
       "0     http://data.europa.eu/esco/concept-scheme/occu...   \n",
       "1     http://data.europa.eu/esco/concept-scheme/memb...   \n",
       "2     http://data.europa.eu/esco/concept-scheme/occu...   \n",
       "3     http://data.europa.eu/esco/concept-scheme/memb...   \n",
       "4     http://data.europa.eu/esco/concept-scheme/memb...   \n",
       "...                                                 ...   \n",
       "3034  http://data.europa.eu/esco/concept-scheme/8ae4...   \n",
       "3035  http://data.europa.eu/esco/concept-scheme/memb...   \n",
       "3036  http://data.europa.eu/esco/concept-scheme/occu...   \n",
       "3037  http://data.europa.eu/esco/concept-scheme/occu...   \n",
       "3038  http://data.europa.eu/esco/concept-scheme/memb...   \n",
       "\n",
       "                                            description       code  \n",
       "0     Technical directors realise the artistic visio...   2654.1.7  \n",
       "1     Metal drawing machine operators set up and ope...     8121.4  \n",
       "2     Precision device inspectors make sure precisio...  7543.10.3  \n",
       "3     Air traffic safety technicians provide technic...     3155.1  \n",
       "4     Hospitality revenue managers maximise revenue ...     2431.9  \n",
       "...                                                 ...        ...  \n",
       "3034  Demographers study a variety of parameters rel...     2120.2  \n",
       "3035  Sorter labourers sort recyclable materials and...     9612.2  \n",
       "3036  Armoured car guards ensure the safe transporta...   5414.1.2  \n",
       "3037  Civil service administrative officers perform ...     2422.1  \n",
       "3038  Motor vehicle assemblers install and put prefa...     8211.5  \n",
       "\n",
       "[3039 rows x 14 columns]"
      ]
     },
     "execution_count": 4,
     "metadata": {},
     "output_type": "execute_result"
    }
   ],
   "source": [
    "df_esco_jobs = pd.read_csv('data/occupations_en.csv')\n",
    "df_esco_jobs"
   ]
  },
  {
   "cell_type": "code",
   "execution_count": 5,
   "metadata": {
    "execution": {
     "iopub.execute_input": "2025-05-27T12:59:23.831508Z",
     "iopub.status.busy": "2025-05-27T12:59:23.831288Z",
     "iopub.status.idle": "2025-05-27T12:59:23.842000Z",
     "shell.execute_reply": "2025-05-27T12:59:23.841219Z",
     "shell.execute_reply.started": "2025-05-27T12:59:23.831491Z"
    },
    "trusted": true
   },
   "outputs": [],
   "source": [
    "job_link_desc = {}\n",
    "for row in df_esco_jobs.itertuples():\n",
    "    job_link_desc[row.conceptUri] = row.description"
   ]
  },
  {
   "cell_type": "code",
   "execution_count": 6,
   "metadata": {
    "execution": {
     "iopub.execute_input": "2025-05-27T12:59:23.843023Z",
     "iopub.status.busy": "2025-05-27T12:59:23.842701Z",
     "iopub.status.idle": "2025-05-27T12:59:23.881729Z",
     "shell.execute_reply": "2025-05-27T12:59:23.881003Z",
     "shell.execute_reply.started": "2025-05-27T12:59:23.843002Z"
    },
    "trusted": true
   },
   "outputs": [],
   "source": [
    "skill_link_desc = {}\n",
    "for row in df_esco_skills.itertuples():\n",
    "    skill_link_desc[row.conceptUri] = row.description"
   ]
  },
  {
   "cell_type": "code",
   "execution_count": 7,
   "metadata": {
    "execution": {
     "iopub.execute_input": "2025-05-27T12:59:23.882717Z",
     "iopub.status.busy": "2025-05-27T12:59:23.882509Z",
     "iopub.status.idle": "2025-05-27T12:59:23.886342Z",
     "shell.execute_reply": "2025-05-27T12:59:23.885791Z",
     "shell.execute_reply.started": "2025-05-27T12:59:23.882700Z"
    },
    "trusted": true
   },
   "outputs": [],
   "source": [
    "# !pip install -U transformers > /dev/null"
   ]
  },
  {
   "cell_type": "code",
   "execution_count": 8,
   "metadata": {
    "execution": {
     "iopub.execute_input": "2025-05-27T12:59:23.887274Z",
     "iopub.status.busy": "2025-05-27T12:59:23.887010Z",
     "iopub.status.idle": "2025-05-27T12:59:24.074081Z",
     "shell.execute_reply": "2025-05-27T12:59:24.073436Z",
     "shell.execute_reply.started": "2025-05-27T12:59:23.887243Z"
    },
    "trusted": true
   },
   "outputs": [
    {
     "data": {
      "text/html": [
       "<div>\n",
       "<style scoped>\n",
       "    .dataframe tbody tr th:only-of-type {\n",
       "        vertical-align: middle;\n",
       "    }\n",
       "\n",
       "    .dataframe tbody tr th {\n",
       "        vertical-align: top;\n",
       "    }\n",
       "\n",
       "    .dataframe thead th {\n",
       "        text-align: right;\n",
       "    }\n",
       "</style>\n",
       "<table border=\"1\" class=\"dataframe\">\n",
       "  <thead>\n",
       "    <tr style=\"text-align: right;\">\n",
       "      <th></th>\n",
       "      <th>job</th>\n",
       "      <th>skill</th>\n",
       "      <th>category</th>\n",
       "    </tr>\n",
       "  </thead>\n",
       "  <tbody>\n",
       "    <tr>\n",
       "      <th>0</th>\n",
       "      <td>http://data.europa.eu/esco/occupation/00030d09...</td>\n",
       "      <td>http://data.europa.eu/esco/skill/93a68dcb-3dc6...</td>\n",
       "      <td>essential</td>\n",
       "    </tr>\n",
       "    <tr>\n",
       "      <th>1</th>\n",
       "      <td>http://data.europa.eu/esco/occupation/00030d09...</td>\n",
       "      <td>http://data.europa.eu/esco/skill/05bc7677-5a64...</td>\n",
       "      <td>essential</td>\n",
       "    </tr>\n",
       "    <tr>\n",
       "      <th>2</th>\n",
       "      <td>http://data.europa.eu/esco/occupation/00030d09...</td>\n",
       "      <td>http://data.europa.eu/esco/skill/860be36a-d19b...</td>\n",
       "      <td>essential</td>\n",
       "    </tr>\n",
       "    <tr>\n",
       "      <th>3</th>\n",
       "      <td>http://data.europa.eu/esco/occupation/00030d09...</td>\n",
       "      <td>http://data.europa.eu/esco/skill/fed5b267-73fa...</td>\n",
       "      <td>essential</td>\n",
       "    </tr>\n",
       "    <tr>\n",
       "      <th>4</th>\n",
       "      <td>http://data.europa.eu/esco/occupation/00030d09...</td>\n",
       "      <td>http://data.europa.eu/esco/skill/f64fe2c2-d090...</td>\n",
       "      <td>essential</td>\n",
       "    </tr>\n",
       "    <tr>\n",
       "      <th>...</th>\n",
       "      <td>...</td>\n",
       "      <td>...</td>\n",
       "      <td>...</td>\n",
       "    </tr>\n",
       "    <tr>\n",
       "      <th>114694</th>\n",
       "      <td>http://data.europa.eu/esco/occupation/ffc292f1...</td>\n",
       "      <td>http://data.europa.eu/esco/skill/1a3660c2-011c...</td>\n",
       "      <td>optional</td>\n",
       "    </tr>\n",
       "    <tr>\n",
       "      <th>114695</th>\n",
       "      <td>http://data.europa.eu/esco/occupation/ffc292f1...</td>\n",
       "      <td>http://data.europa.eu/esco/skill/5b264a14-d4db...</td>\n",
       "      <td>optional</td>\n",
       "    </tr>\n",
       "    <tr>\n",
       "      <th>114696</th>\n",
       "      <td>http://data.europa.eu/esco/occupation/ffc292f1...</td>\n",
       "      <td>http://data.europa.eu/esco/skill/ed938748-60ae...</td>\n",
       "      <td>optional</td>\n",
       "    </tr>\n",
       "    <tr>\n",
       "      <th>114697</th>\n",
       "      <td>http://data.europa.eu/esco/occupation/ffc292f1...</td>\n",
       "      <td>http://data.europa.eu/esco/skill/92f54ff7-f6d8...</td>\n",
       "      <td>optional</td>\n",
       "    </tr>\n",
       "    <tr>\n",
       "      <th>114698</th>\n",
       "      <td>http://data.europa.eu/esco/occupation/ffc292f1...</td>\n",
       "      <td>http://data.europa.eu/esco/skill/d3d9b3ab-9dc8...</td>\n",
       "      <td>optional</td>\n",
       "    </tr>\n",
       "  </tbody>\n",
       "</table>\n",
       "<p>114699 rows × 3 columns</p>\n",
       "</div>"
      ],
      "text/plain": [
       "                                                      job  \\\n",
       "0       http://data.europa.eu/esco/occupation/00030d09...   \n",
       "1       http://data.europa.eu/esco/occupation/00030d09...   \n",
       "2       http://data.europa.eu/esco/occupation/00030d09...   \n",
       "3       http://data.europa.eu/esco/occupation/00030d09...   \n",
       "4       http://data.europa.eu/esco/occupation/00030d09...   \n",
       "...                                                   ...   \n",
       "114694  http://data.europa.eu/esco/occupation/ffc292f1...   \n",
       "114695  http://data.europa.eu/esco/occupation/ffc292f1...   \n",
       "114696  http://data.europa.eu/esco/occupation/ffc292f1...   \n",
       "114697  http://data.europa.eu/esco/occupation/ffc292f1...   \n",
       "114698  http://data.europa.eu/esco/occupation/ffc292f1...   \n",
       "\n",
       "                                                    skill   category  \n",
       "0       http://data.europa.eu/esco/skill/93a68dcb-3dc6...  essential  \n",
       "1       http://data.europa.eu/esco/skill/05bc7677-5a64...  essential  \n",
       "2       http://data.europa.eu/esco/skill/860be36a-d19b...  essential  \n",
       "3       http://data.europa.eu/esco/skill/fed5b267-73fa...  essential  \n",
       "4       http://data.europa.eu/esco/skill/f64fe2c2-d090...  essential  \n",
       "...                                                   ...        ...  \n",
       "114694  http://data.europa.eu/esco/skill/1a3660c2-011c...   optional  \n",
       "114695  http://data.europa.eu/esco/skill/5b264a14-d4db...   optional  \n",
       "114696  http://data.europa.eu/esco/skill/ed938748-60ae...   optional  \n",
       "114697  http://data.europa.eu/esco/skill/92f54ff7-f6d8...   optional  \n",
       "114698  http://data.europa.eu/esco/skill/d3d9b3ab-9dc8...   optional  \n",
       "\n",
       "[114699 rows x 3 columns]"
      ]
     },
     "execution_count": 8,
     "metadata": {},
     "output_type": "execute_result"
    }
   ],
   "source": [
    "df = pd.read_csv('taskB/training/job2skill.tsv', sep='\\t', names=['job', 'skill', 'category'])\n",
    "df"
   ]
  },
  {
   "cell_type": "code",
   "execution_count": 9,
   "metadata": {
    "execution": {
     "iopub.execute_input": "2025-05-27T12:59:24.074972Z",
     "iopub.status.busy": "2025-05-27T12:59:24.074724Z",
     "iopub.status.idle": "2025-05-27T12:59:24.130215Z",
     "shell.execute_reply": "2025-05-27T12:59:24.129696Z",
     "shell.execute_reply.started": "2025-05-27T12:59:24.074955Z"
    },
    "trusted": true
   },
   "outputs": [],
   "source": [
    "queries = \"taskB/validation/queries\"\n",
    "corpus_elements = \"taskB/validation/corpus_elements\"\n",
    "queries = pd.read_csv(queries,sep=\"\\t\")\n",
    "corpus_elements = pd.read_csv(corpus_elements, sep=\"\\t\")\n",
    "\n",
    "corpus_elements[\"skill_aliases\"] = corpus_elements[\"skill_aliases\"].apply(lambda x: ast.literal_eval(x))\n",
    "\n",
    "queries_ids = queries.q_id.to_list()\n",
    "queries_texts = queries.jobtitle.to_list()\n",
    "val_jobs = queries.jobtitle.to_list()\n",
    "val_skills = [s[0] for s in corpus_elements.skill_aliases.to_list()]\n",
    "map_queries = dict(zip(queries_ids,queries_texts))\n",
    "map_queries_rev = dict(zip(queries_texts,queries_ids))\n",
    "\n",
    "list_aliases_df = corpus_elements.explode(\"skill_aliases\")\n",
    "\n",
    "\n",
    "corpus_ids = list_aliases_df.c_id.to_list()\n",
    "corpus_texts = list_aliases_df.skill_aliases.to_list()\n",
    "map_corpus = dict(zip(corpus_texts,corpus_ids))\n",
    "val_skill_to_link = dict(zip(corpus_texts, list_aliases_df.esco_uri.to_list()))"
   ]
  },
  {
   "cell_type": "code",
   "execution_count": 10,
   "metadata": {
    "execution": {
     "iopub.execute_input": "2025-05-27T12:59:24.131459Z",
     "iopub.status.busy": "2025-05-27T12:59:24.131228Z",
     "iopub.status.idle": "2025-05-27T12:59:24.420230Z",
     "shell.execute_reply": "2025-05-27T12:59:24.419627Z",
     "shell.execute_reply.started": "2025-05-27T12:59:24.131441Z"
    },
    "trusted": true
   },
   "outputs": [],
   "source": [
    "with open('taskB/training/jobid2terms.json', 'r') as f:\n",
    "    jobid2name = json.load(f)\n",
    "\n",
    "with open('taskB/training/skillid2terms.json', 'r') as f:\n",
    "    skillid2name = json.load(f)\n",
    "\n",
    "with open('/kaggle/input/train_descriptions_individual.json', 'r') as f:\n",
    "    train_descs = json.load(f)\n",
    "\n",
    "with open('/kaggle/input/val_descriptions2.json', 'r') as f:\n",
    "    val_descs = json.load(f)"
   ]
  },
  {
   "cell_type": "code",
   "execution_count": 11,
   "metadata": {
    "execution": {
     "iopub.execute_input": "2025-05-27T12:59:24.422715Z",
     "iopub.status.busy": "2025-05-27T12:59:24.422492Z",
     "iopub.status.idle": "2025-05-27T12:59:24.461124Z",
     "shell.execute_reply": "2025-05-27T12:59:24.460509Z",
     "shell.execute_reply.started": "2025-05-27T12:59:24.422698Z"
    },
    "trusted": true
   },
   "outputs": [
    {
     "data": {
      "text/plain": [
       "100477"
      ]
     },
     "execution_count": 11,
     "metadata": {},
     "output_type": "execute_result"
    }
   ],
   "source": [
    "all_skills = []\n",
    "all_skills_dict = {}\n",
    "\n",
    "for link, aliases in skillid2name.items():\n",
    "    all_skills.extend(aliases)\n",
    "    for alias in aliases:\n",
    "        all_skills_dict[alias] = link\n",
    "\n",
    "len(all_skills)"
   ]
  },
  {
   "cell_type": "code",
   "execution_count": 12,
   "metadata": {
    "execution": {
     "iopub.execute_input": "2025-05-27T12:59:24.462218Z",
     "iopub.status.busy": "2025-05-27T12:59:24.462029Z",
     "iopub.status.idle": "2025-05-27T12:59:24.475343Z",
     "shell.execute_reply": "2025-05-27T12:59:24.474774Z",
     "shell.execute_reply.started": "2025-05-27T12:59:24.462203Z"
    },
    "trusted": true
   },
   "outputs": [
    {
     "data": {
      "text/plain": [
       "33412"
      ]
     },
     "execution_count": 12,
     "metadata": {},
     "output_type": "execute_result"
    }
   ],
   "source": [
    "all_jobs = []\n",
    "all_jobs_dict = {}\n",
    "\n",
    "for link, aliases in jobid2name.items():\n",
    "    all_jobs.extend(aliases)\n",
    "    for alias in aliases:\n",
    "        all_jobs_dict[alias] = link\n",
    "\n",
    "len(all_jobs)"
   ]
  },
  {
   "cell_type": "code",
   "execution_count": 13,
   "metadata": {
    "execution": {
     "iopub.execute_input": "2025-05-27T12:59:24.476227Z",
     "iopub.status.busy": "2025-05-27T12:59:24.476006Z",
     "iopub.status.idle": "2025-05-27T12:59:24.525060Z",
     "shell.execute_reply": "2025-05-27T12:59:24.524577Z",
     "shell.execute_reply.started": "2025-05-27T12:59:24.476186Z"
    },
    "trusted": true
   },
   "outputs": [],
   "source": [
    "jobs = [jobid2name[l][0] for l in df.job.unique()]\n",
    "skills = [skillid2name[l][0] for l in df.skill.unique()]"
   ]
  },
  {
   "cell_type": "code",
   "execution_count": 14,
   "metadata": {
    "execution": {
     "iopub.execute_input": "2025-05-27T12:59:24.526024Z",
     "iopub.status.busy": "2025-05-27T12:59:24.525795Z",
     "iopub.status.idle": "2025-05-27T12:59:24.629227Z",
     "shell.execute_reply": "2025-05-27T12:59:24.628266Z",
     "shell.execute_reply.started": "2025-05-27T12:59:24.526009Z"
    },
    "trusted": true
   },
   "outputs": [],
   "source": [
    "multindata_dict = {}\n",
    "\n",
    "for row in df.itertuples():\n",
    "    job_data = multindata_dict.get(row.job, [])\n",
    "    job_data.append(row.skill)\n",
    "    multindata_dict[row.job] = job_data\n",
    "\n",
    "multindata = [(k, v) for k,v in multindata_dict.items()]"
   ]
  },
  {
   "cell_type": "code",
   "execution_count": 15,
   "metadata": {
    "execution": {
     "iopub.execute_input": "2025-05-27T12:59:24.630760Z",
     "iopub.status.busy": "2025-05-27T12:59:24.630181Z",
     "iopub.status.idle": "2025-05-27T12:59:24.640019Z",
     "shell.execute_reply": "2025-05-27T12:59:24.639380Z",
     "shell.execute_reply.started": "2025-05-27T12:59:24.630721Z"
    },
    "trusted": true
   },
   "outputs": [
    {
     "data": {
      "text/html": [
       "<div>\n",
       "<style scoped>\n",
       "    .dataframe tbody tr th:only-of-type {\n",
       "        vertical-align: middle;\n",
       "    }\n",
       "\n",
       "    .dataframe tbody tr th {\n",
       "        vertical-align: top;\n",
       "    }\n",
       "\n",
       "    .dataframe thead th {\n",
       "        text-align: right;\n",
       "    }\n",
       "</style>\n",
       "<table border=\"1\" class=\"dataframe\">\n",
       "  <thead>\n",
       "    <tr style=\"text-align: right;\">\n",
       "      <th></th>\n",
       "      <th>q_id</th>\n",
       "      <th>jobtitle</th>\n",
       "    </tr>\n",
       "  </thead>\n",
       "  <tbody>\n",
       "    <tr>\n",
       "      <th>0</th>\n",
       "      <td>dev_qb_jt_1</td>\n",
       "      <td>corporate governance analyst</td>\n",
       "    </tr>\n",
       "    <tr>\n",
       "      <th>1</th>\n",
       "      <td>dev_qb_jt_2</td>\n",
       "      <td>logistics business analyst</td>\n",
       "    </tr>\n",
       "    <tr>\n",
       "      <th>2</th>\n",
       "      <td>dev_qb_jt_3</td>\n",
       "      <td>operations planning analyst</td>\n",
       "    </tr>\n",
       "    <tr>\n",
       "      <th>3</th>\n",
       "      <td>dev_qb_jt_4</td>\n",
       "      <td>real estate data analyst</td>\n",
       "    </tr>\n",
       "    <tr>\n",
       "      <th>4</th>\n",
       "      <td>dev_qb_jt_5</td>\n",
       "      <td>security analyst ii</td>\n",
       "    </tr>\n",
       "    <tr>\n",
       "      <th>...</th>\n",
       "      <td>...</td>\n",
       "      <td>...</td>\n",
       "    </tr>\n",
       "    <tr>\n",
       "      <th>299</th>\n",
       "      <td>dev_qb_jt_300</td>\n",
       "      <td>hr generalist consultant</td>\n",
       "    </tr>\n",
       "    <tr>\n",
       "      <th>300</th>\n",
       "      <td>dev_qb_jt_301</td>\n",
       "      <td>data analyst apprenticeship</td>\n",
       "    </tr>\n",
       "    <tr>\n",
       "      <th>301</th>\n",
       "      <td>dev_qb_jt_302</td>\n",
       "      <td>data science graduate intern</td>\n",
       "    </tr>\n",
       "    <tr>\n",
       "      <th>302</th>\n",
       "      <td>dev_qb_jt_303</td>\n",
       "      <td>quality specialist iii</td>\n",
       "    </tr>\n",
       "    <tr>\n",
       "      <th>303</th>\n",
       "      <td>dev_qb_jt_304</td>\n",
       "      <td>associate director quality assurance</td>\n",
       "    </tr>\n",
       "  </tbody>\n",
       "</table>\n",
       "<p>304 rows × 2 columns</p>\n",
       "</div>"
      ],
      "text/plain": [
       "              q_id                              jobtitle\n",
       "0      dev_qb_jt_1          corporate governance analyst\n",
       "1      dev_qb_jt_2            logistics business analyst\n",
       "2      dev_qb_jt_3           operations planning analyst\n",
       "3      dev_qb_jt_4              real estate data analyst\n",
       "4      dev_qb_jt_5                   security analyst ii\n",
       "..             ...                                   ...\n",
       "299  dev_qb_jt_300              hr generalist consultant\n",
       "300  dev_qb_jt_301           data analyst apprenticeship\n",
       "301  dev_qb_jt_302          data science graduate intern\n",
       "302  dev_qb_jt_303                quality specialist iii\n",
       "303  dev_qb_jt_304  associate director quality assurance\n",
       "\n",
       "[304 rows x 2 columns]"
      ]
     },
     "execution_count": 15,
     "metadata": {},
     "output_type": "execute_result"
    }
   ],
   "source": [
    "df_jobs = pd.read_csv('taskB/validation/queries', sep='\\t')\n",
    "df_jobs"
   ]
  },
  {
   "cell_type": "code",
   "execution_count": 16,
   "metadata": {
    "execution": {
     "iopub.execute_input": "2025-05-27T12:59:24.641228Z",
     "iopub.status.busy": "2025-05-27T12:59:24.640637Z",
     "iopub.status.idle": "2025-05-27T12:59:24.670615Z",
     "shell.execute_reply": "2025-05-27T12:59:24.670102Z",
     "shell.execute_reply.started": "2025-05-27T12:59:24.641203Z"
    },
    "trusted": true
   },
   "outputs": [
    {
     "data": {
      "text/html": [
       "<div>\n",
       "<style scoped>\n",
       "    .dataframe tbody tr th:only-of-type {\n",
       "        vertical-align: middle;\n",
       "    }\n",
       "\n",
       "    .dataframe tbody tr th {\n",
       "        vertical-align: top;\n",
       "    }\n",
       "\n",
       "    .dataframe thead th {\n",
       "        text-align: right;\n",
       "    }\n",
       "</style>\n",
       "<table border=\"1\" class=\"dataframe\">\n",
       "  <thead>\n",
       "    <tr style=\"text-align: right;\">\n",
       "      <th></th>\n",
       "      <th>c_id</th>\n",
       "      <th>esco_uri</th>\n",
       "      <th>skill_aliases</th>\n",
       "    </tr>\n",
       "  </thead>\n",
       "  <tbody>\n",
       "    <tr>\n",
       "      <th>0</th>\n",
       "      <td>dev_cb_sk_1</td>\n",
       "      <td>http://data.europa.eu/esco/skill/1c460d2d-90c6...</td>\n",
       "      <td>['pricing plans', 'price strategies', 'pricing...</td>\n",
       "    </tr>\n",
       "    <tr>\n",
       "      <th>1</th>\n",
       "      <td>dev_cb_sk_2</td>\n",
       "      <td>http://data.europa.eu/esco/skill/301a6581-e983...</td>\n",
       "      <td>['putting out fires', 'put out fires', 'exting...</td>\n",
       "    </tr>\n",
       "    <tr>\n",
       "      <th>2</th>\n",
       "      <td>dev_cb_sk_3</td>\n",
       "      <td>http://data.europa.eu/esco/skill/a4881e54-6055...</td>\n",
       "      <td>['online assessment', 'analysis of web strateg...</td>\n",
       "    </tr>\n",
       "    <tr>\n",
       "      <th>3</th>\n",
       "      <td>dev_cb_sk_4</td>\n",
       "      <td>http://data.europa.eu/esco/skill/efda73b4-5212...</td>\n",
       "      <td>['keeping up with trends', 'keep pace with tre...</td>\n",
       "    </tr>\n",
       "    <tr>\n",
       "      <th>4</th>\n",
       "      <td>dev_cb_sk_5</td>\n",
       "      <td>http://data.europa.eu/esco/skill/22a173f5-868c...</td>\n",
       "      <td>['prepare tax returns form', 'complete tax ret...</td>\n",
       "    </tr>\n",
       "    <tr>\n",
       "      <th>...</th>\n",
       "      <td>...</td>\n",
       "      <td>...</td>\n",
       "      <td>...</td>\n",
       "    </tr>\n",
       "    <tr>\n",
       "      <th>1434</th>\n",
       "      <td>dev_cb_sk_1435</td>\n",
       "      <td>http://data.europa.eu/esco/skill/113b4428-0a31...</td>\n",
       "      <td>['keep promises', 'show reliability', 'demonst...</td>\n",
       "    </tr>\n",
       "    <tr>\n",
       "      <th>1435</th>\n",
       "      <td>dev_cb_sk_1436</td>\n",
       "      <td>http://data.europa.eu/esco/skill/9d9ba780-4aa2...</td>\n",
       "      <td>['present new employees', 'introducing new emp...</td>\n",
       "    </tr>\n",
       "    <tr>\n",
       "      <th>1436</th>\n",
       "      <td>dev_cb_sk_1437</td>\n",
       "      <td>http://data.europa.eu/esco/skill/a8d41cca-3bc9...</td>\n",
       "      <td>['prepare design specifications', 'design spec...</td>\n",
       "    </tr>\n",
       "    <tr>\n",
       "      <th>1437</th>\n",
       "      <td>dev_cb_sk_1438</td>\n",
       "      <td>http://data.europa.eu/esco/skill/5100aeb3-948d...</td>\n",
       "      <td>['define evaluation needs', 'define evaluation...</td>\n",
       "    </tr>\n",
       "    <tr>\n",
       "      <th>1438</th>\n",
       "      <td>dev_cb_sk_1439</td>\n",
       "      <td>http://data.europa.eu/esco/skill/11190c86-bf63...</td>\n",
       "      <td>['dermatology', 'medinice of skin diseases', '...</td>\n",
       "    </tr>\n",
       "  </tbody>\n",
       "</table>\n",
       "<p>1439 rows × 3 columns</p>\n",
       "</div>"
      ],
      "text/plain": [
       "                c_id                                           esco_uri  \\\n",
       "0        dev_cb_sk_1  http://data.europa.eu/esco/skill/1c460d2d-90c6...   \n",
       "1        dev_cb_sk_2  http://data.europa.eu/esco/skill/301a6581-e983...   \n",
       "2        dev_cb_sk_3  http://data.europa.eu/esco/skill/a4881e54-6055...   \n",
       "3        dev_cb_sk_4  http://data.europa.eu/esco/skill/efda73b4-5212...   \n",
       "4        dev_cb_sk_5  http://data.europa.eu/esco/skill/22a173f5-868c...   \n",
       "...              ...                                                ...   \n",
       "1434  dev_cb_sk_1435  http://data.europa.eu/esco/skill/113b4428-0a31...   \n",
       "1435  dev_cb_sk_1436  http://data.europa.eu/esco/skill/9d9ba780-4aa2...   \n",
       "1436  dev_cb_sk_1437  http://data.europa.eu/esco/skill/a8d41cca-3bc9...   \n",
       "1437  dev_cb_sk_1438  http://data.europa.eu/esco/skill/5100aeb3-948d...   \n",
       "1438  dev_cb_sk_1439  http://data.europa.eu/esco/skill/11190c86-bf63...   \n",
       "\n",
       "                                          skill_aliases  \n",
       "0     ['pricing plans', 'price strategies', 'pricing...  \n",
       "1     ['putting out fires', 'put out fires', 'exting...  \n",
       "2     ['online assessment', 'analysis of web strateg...  \n",
       "3     ['keeping up with trends', 'keep pace with tre...  \n",
       "4     ['prepare tax returns form', 'complete tax ret...  \n",
       "...                                                 ...  \n",
       "1434  ['keep promises', 'show reliability', 'demonst...  \n",
       "1435  ['present new employees', 'introducing new emp...  \n",
       "1436  ['prepare design specifications', 'design spec...  \n",
       "1437  ['define evaluation needs', 'define evaluation...  \n",
       "1438  ['dermatology', 'medinice of skin diseases', '...  \n",
       "\n",
       "[1439 rows x 3 columns]"
      ]
     },
     "execution_count": 16,
     "metadata": {},
     "output_type": "execute_result"
    }
   ],
   "source": [
    "df_skills = pd.read_csv('taskB/validation/corpus_elements', sep='\\t')\n",
    "df_skills"
   ]
  },
  {
   "cell_type": "code",
   "execution_count": 17,
   "metadata": {
    "execution": {
     "iopub.execute_input": "2025-05-27T12:59:24.671625Z",
     "iopub.status.busy": "2025-05-27T12:59:24.671367Z",
     "iopub.status.idle": "2025-05-27T12:59:24.693429Z",
     "shell.execute_reply": "2025-05-27T12:59:24.692729Z",
     "shell.execute_reply.started": "2025-05-27T12:59:24.671593Z"
    },
    "trusted": true
   },
   "outputs": [
    {
     "data": {
      "text/html": [
       "<div>\n",
       "<style scoped>\n",
       "    .dataframe tbody tr th:only-of-type {\n",
       "        vertical-align: middle;\n",
       "    }\n",
       "\n",
       "    .dataframe tbody tr th {\n",
       "        vertical-align: top;\n",
       "    }\n",
       "\n",
       "    .dataframe thead th {\n",
       "        text-align: right;\n",
       "    }\n",
       "</style>\n",
       "<table border=\"1\" class=\"dataframe\">\n",
       "  <thead>\n",
       "    <tr style=\"text-align: right;\">\n",
       "      <th></th>\n",
       "      <th>q_id</th>\n",
       "      <th>reserved</th>\n",
       "      <th>c_id</th>\n",
       "      <th>relevant</th>\n",
       "    </tr>\n",
       "  </thead>\n",
       "  <tbody>\n",
       "    <tr>\n",
       "      <th>0</th>\n",
       "      <td>dev_qb_jt_263</td>\n",
       "      <td>0</td>\n",
       "      <td>dev_cb_sk_1009</td>\n",
       "      <td>1</td>\n",
       "    </tr>\n",
       "    <tr>\n",
       "      <th>1</th>\n",
       "      <td>dev_qb_jt_263</td>\n",
       "      <td>0</td>\n",
       "      <td>dev_cb_sk_1014</td>\n",
       "      <td>1</td>\n",
       "    </tr>\n",
       "    <tr>\n",
       "      <th>2</th>\n",
       "      <td>dev_qb_jt_263</td>\n",
       "      <td>0</td>\n",
       "      <td>dev_cb_sk_1027</td>\n",
       "      <td>1</td>\n",
       "    </tr>\n",
       "    <tr>\n",
       "      <th>3</th>\n",
       "      <td>dev_qb_jt_263</td>\n",
       "      <td>0</td>\n",
       "      <td>dev_cb_sk_1028</td>\n",
       "      <td>1</td>\n",
       "    </tr>\n",
       "    <tr>\n",
       "      <th>4</th>\n",
       "      <td>dev_qb_jt_263</td>\n",
       "      <td>0</td>\n",
       "      <td>dev_cb_sk_1069</td>\n",
       "      <td>1</td>\n",
       "    </tr>\n",
       "    <tr>\n",
       "      <th>...</th>\n",
       "      <td>...</td>\n",
       "      <td>...</td>\n",
       "      <td>...</td>\n",
       "      <td>...</td>\n",
       "    </tr>\n",
       "    <tr>\n",
       "      <th>25883</th>\n",
       "      <td>dev_qb_jt_292</td>\n",
       "      <td>0</td>\n",
       "      <td>dev_cb_sk_910</td>\n",
       "      <td>1</td>\n",
       "    </tr>\n",
       "    <tr>\n",
       "      <th>25884</th>\n",
       "      <td>dev_qb_jt_292</td>\n",
       "      <td>0</td>\n",
       "      <td>dev_cb_sk_930</td>\n",
       "      <td>1</td>\n",
       "    </tr>\n",
       "    <tr>\n",
       "      <th>25885</th>\n",
       "      <td>dev_qb_jt_292</td>\n",
       "      <td>0</td>\n",
       "      <td>dev_cb_sk_976</td>\n",
       "      <td>1</td>\n",
       "    </tr>\n",
       "    <tr>\n",
       "      <th>25886</th>\n",
       "      <td>dev_qb_jt_292</td>\n",
       "      <td>0</td>\n",
       "      <td>dev_cb_sk_99</td>\n",
       "      <td>1</td>\n",
       "    </tr>\n",
       "    <tr>\n",
       "      <th>25887</th>\n",
       "      <td>dev_qb_jt_292</td>\n",
       "      <td>0</td>\n",
       "      <td>dev_cb_sk_993</td>\n",
       "      <td>1</td>\n",
       "    </tr>\n",
       "  </tbody>\n",
       "</table>\n",
       "<p>25888 rows × 4 columns</p>\n",
       "</div>"
      ],
      "text/plain": [
       "                q_id  reserved            c_id  relevant\n",
       "0      dev_qb_jt_263         0  dev_cb_sk_1009         1\n",
       "1      dev_qb_jt_263         0  dev_cb_sk_1014         1\n",
       "2      dev_qb_jt_263         0  dev_cb_sk_1027         1\n",
       "3      dev_qb_jt_263         0  dev_cb_sk_1028         1\n",
       "4      dev_qb_jt_263         0  dev_cb_sk_1069         1\n",
       "...              ...       ...             ...       ...\n",
       "25883  dev_qb_jt_292         0   dev_cb_sk_910         1\n",
       "25884  dev_qb_jt_292         0   dev_cb_sk_930         1\n",
       "25885  dev_qb_jt_292         0   dev_cb_sk_976         1\n",
       "25886  dev_qb_jt_292         0    dev_cb_sk_99         1\n",
       "25887  dev_qb_jt_292         0   dev_cb_sk_993         1\n",
       "\n",
       "[25888 rows x 4 columns]"
      ]
     },
     "execution_count": 17,
     "metadata": {},
     "output_type": "execute_result"
    }
   ],
   "source": [
    "df_labels = pd.read_csv('taskB/validation/qrels.tsv', sep='\\t', names=['q_id', 'reserved', 'c_id', 'relevant'])\n",
    "df_labels"
   ]
  },
  {
   "cell_type": "code",
   "execution_count": 18,
   "metadata": {
    "execution": {
     "iopub.execute_input": "2025-05-27T12:59:24.694647Z",
     "iopub.status.busy": "2025-05-27T12:59:24.694211Z",
     "iopub.status.idle": "2025-05-27T12:59:24.697523Z",
     "shell.execute_reply": "2025-05-27T12:59:24.696943Z",
     "shell.execute_reply.started": "2025-05-27T12:59:24.694629Z"
    },
    "trusted": true
   },
   "outputs": [],
   "source": [
    "# jobbert = SentenceTransformer(\"TechWolf/JobBERT-v2\").to(device)"
   ]
  },
  {
   "cell_type": "code",
   "execution_count": 19,
   "metadata": {
    "execution": {
     "iopub.execute_input": "2025-05-27T12:59:24.698430Z",
     "iopub.status.busy": "2025-05-27T12:59:24.698250Z",
     "iopub.status.idle": "2025-05-27T12:59:35.015535Z",
     "shell.execute_reply": "2025-05-27T12:59:35.014785Z",
     "shell.execute_reply.started": "2025-05-27T12:59:24.698416Z"
    },
    "trusted": true
   },
   "outputs": [
    {
     "data": {
      "application/vnd.jupyter.widget-view+json": {
       "model_id": "d6eaf03478cc472ba4f73ab368af5a8f",
       "version_major": 2,
       "version_minor": 0
      },
      "text/plain": [
       "tokenizer_config.json:   0%|          | 0.00/1.18k [00:00<?, ?B/s]"
      ]
     },
     "metadata": {},
     "output_type": "display_data"
    },
    {
     "data": {
      "application/vnd.jupyter.widget-view+json": {
       "model_id": "a9ed342cb66f4100a18a589d1a922d4c",
       "version_major": 2,
       "version_minor": 0
      },
      "text/plain": [
       "sentencepiece.bpe.model:   0%|          | 0.00/5.07M [00:00<?, ?B/s]"
      ]
     },
     "metadata": {},
     "output_type": "display_data"
    },
    {
     "data": {
      "application/vnd.jupyter.widget-view+json": {
       "model_id": "3afc6a3b6165492d8b0e113c1c3dfe37",
       "version_major": 2,
       "version_minor": 0
      },
      "text/plain": [
       "tokenizer.json:   0%|          | 0.00/17.1M [00:00<?, ?B/s]"
      ]
     },
     "metadata": {},
     "output_type": "display_data"
    },
    {
     "data": {
      "application/vnd.jupyter.widget-view+json": {
       "model_id": "1a55b32876804a91874c60aa9c02e5d5",
       "version_major": 2,
       "version_minor": 0
      },
      "text/plain": [
       "special_tokens_map.json:   0%|          | 0.00/964 [00:00<?, ?B/s]"
      ]
     },
     "metadata": {},
     "output_type": "display_data"
    },
    {
     "data": {
      "application/vnd.jupyter.widget-view+json": {
       "model_id": "9bbf3820dfb8466883b5bb26de3ce809",
       "version_major": 2,
       "version_minor": 0
      },
      "text/plain": [
       "config.json:   0%|          | 0.00/690 [00:00<?, ?B/s]"
      ]
     },
     "metadata": {},
     "output_type": "display_data"
    },
    {
     "data": {
      "application/vnd.jupyter.widget-view+json": {
       "model_id": "48fa44b0e52c4c6e882fe518a56324ea",
       "version_major": 2,
       "version_minor": 0
      },
      "text/plain": [
       "model.safetensors:   0%|          | 0.00/1.12G [00:00<?, ?B/s]"
      ]
     },
     "metadata": {},
     "output_type": "display_data"
    }
   ],
   "source": [
    "if encoder_type=='esco':\n",
    "    tokenizer = AutoTokenizer.from_pretrained(\"FacebookAI/xlm-roberta-large\")\n",
    "    encoder = AutoModel.from_pretrained(\"jjzha/esco-xlm-roberta-large\").to(device)\n",
    "elif encoder_type=='e5':\n",
    "    tokenizer = AutoTokenizer.from_pretrained('intfloat/e5-large-v2')\n",
    "    encoder = AutoModel.from_pretrained('intfloat/e5-large-v2').to(device)\n",
    "elif encoder_type=='instruct':\n",
    "    tokenizer = AutoTokenizer.from_pretrained('intfloat/multilingual-e5-large-instruct')\n",
    "    encoder = AutoModel.from_pretrained('intfloat/multilingual-e5-large-instruct', device_map='auto')"
   ]
  },
  {
   "cell_type": "code",
   "execution_count": 20,
   "metadata": {
    "execution": {
     "iopub.execute_input": "2025-05-27T12:59:35.016715Z",
     "iopub.status.busy": "2025-05-27T12:59:35.016422Z",
     "iopub.status.idle": "2025-05-27T12:59:35.024266Z",
     "shell.execute_reply": "2025-05-27T12:59:35.023471Z",
     "shell.execute_reply.started": "2025-05-27T12:59:35.016688Z"
    },
    "trusted": true
   },
   "outputs": [],
   "source": [
    "qrels_file = \"taskB/validation/qrels.tsv\"\n",
    "run_file = \"validation_sentence_taskB.trec\"\n",
    "\n",
    "def get_mAP(similarities, name='Team_B_exp'):\n",
    "    results = []\n",
    "    results_name = []\n",
    "    \n",
    "    for q_idx, q_id in enumerate(queries_ids):\n",
    "        sorted_indices = np.argsort(-similarities[q_idx])\n",
    "        used_doc_ids = set()\n",
    "        rank_counter = 0\n",
    "        for c_idx in sorted_indices:  # Consider the full list.\n",
    "            doc_id = corpus_ids[c_idx]\n",
    "            # If doc_id was already processed, go to the next one.\n",
    "            if doc_id in used_doc_ids:\n",
    "                continue\n",
    "            used_doc_ids.add(doc_id)\n",
    "            rank_counter += 1\n",
    "    \n",
    "            query_name = map_queries[q_id]\n",
    "            doc_name = corpus_texts[c_idx]\n",
    "            score = similarities[q_idx, c_idx]\n",
    "    \n",
    "            results.append(f\"{q_id} Q0 {doc_id} {rank_counter} {score:.4f} {name}\")\n",
    "            results_name.append(f\"{query_name} Q0 {doc_name} {rank_counter} {score:.4f} {name}\")\n",
    "    \n",
    "    with open(\"validation_sentence_taskB.trec\", \"w\", encoding=\"utf-8\") as f:\n",
    "        f.write(\"\\n\".join(results))\n",
    "\n",
    "    command = [\"python\", \"talentclef25_evaluation_script/talentclef_evaluate.py\", \"--qrels\", qrels_file, \"--run\", run_file]\n",
    "    result = subprocess.run(command, capture_output=True, text=True)\n",
    "\n",
    "    return float(result.stdout.split('\\n')[8].split(':')[1])"
   ]
  },
  {
   "cell_type": "code",
   "execution_count": 21,
   "metadata": {
    "execution": {
     "iopub.execute_input": "2025-05-27T12:59:35.025304Z",
     "iopub.status.busy": "2025-05-27T12:59:35.025053Z",
     "iopub.status.idle": "2025-05-27T12:59:35.080607Z",
     "shell.execute_reply": "2025-05-27T12:59:35.080085Z",
     "shell.execute_reply.started": "2025-05-27T12:59:35.025288Z"
    },
    "trusted": true
   },
   "outputs": [],
   "source": [
    "job_template = 'it is an example of a skill related to the job: {job}'\n",
    "skill_template = 'skill: {skill}'\n",
    "\n",
    "task = 'Given a job title, retreive skills that may be relevant to the job and its associated responsibilities'\n",
    "\n",
    "def average_pool(last_hidden_states, attention_mask):\n",
    "    last_hidden = last_hidden_states.masked_fill(~attention_mask[..., None].bool(), 0.0)\n",
    "    return last_hidden.sum(dim=1) / attention_mask.sum(dim=1)[..., None]\n",
    "\n",
    "def get_embeddings(texts, encoder, tokenizer, batch_size=256, max_length=64, token='mean'):\n",
    "    text_embeddings = torch.tensor([], device=device)\n",
    "    for i in tqdm(range(0, len(texts), batch_size)):\n",
    "        tokenized = {k:v.to(device) for k,v in tokenizer(texts[i:i+batch_size], max_length=max_length, padding=True, truncation=True, return_tensors='pt').items()}\n",
    "        with torch.no_grad():\n",
    "            outputs = encoder(**tokenized)\n",
    "        if token=='mean':\n",
    "            embeddings = average_pool(outputs.last_hidden_state, tokenized['attention_mask'])\n",
    "        else:\n",
    "            embeddings = outputs.last_hidden_state[:,0,:]\n",
    "        text_embeddings = torch.cat((text_embeddings, embeddings), dim=0)\n",
    "    return text_embeddings\n",
    "\n",
    "def get_detailed_instruct(query):\n",
    "    return f'Instruct: {task}\\nQuery: {query}'"
   ]
  },
  {
   "cell_type": "code",
   "execution_count": 22,
   "metadata": {
    "execution": {
     "iopub.execute_input": "2025-05-27T12:59:35.081551Z",
     "iopub.status.busy": "2025-05-27T12:59:35.081381Z",
     "iopub.status.idle": "2025-05-27T12:59:35.097125Z",
     "shell.execute_reply": "2025-05-27T12:59:35.096578Z",
     "shell.execute_reply.started": "2025-05-27T12:59:35.081536Z"
    },
    "trusted": true
   },
   "outputs": [],
   "source": [
    "# replace jobbert with esco-xlm-roberta-large\n",
    "def esco_encode_batch(texts):\n",
    "    features = esco_xlm_token(texts, padding=True, max_length=512, truncation=True, return_tensors='pt')\n",
    "    features = {k:v.to(device) for k,v in features.items()}\n",
    "    with torch.no_grad():\n",
    "        out_features = esco_xlm(**features)\n",
    "    return average_pool(out_features.last_hidden_state, features['attention_mask']).cpu().numpy()\n",
    "\n",
    "def esco_encode(texts, batch_size = 1024):\n",
    "    # Sort texts by length and keep track of original indices\n",
    "    sorted_indices = np.argsort([len(text) for text in texts])\n",
    "    sorted_texts = [texts[i] for i in sorted_indices]\n",
    "    \n",
    "    embeddings = []\n",
    "    \n",
    "    # Encode in batches\n",
    "    for i in tqdm(range(0, len(sorted_texts), batch_size)):\n",
    "        batch = sorted_texts[i:i+batch_size]\n",
    "        embeddings.append(esco_encode_batch(batch))\n",
    "    \n",
    "    # Concatenate embeddings and reorder to original indices\n",
    "    sorted_embeddings = np.concatenate(embeddings)\n",
    "    original_order = np.argsort(sorted_indices)\n",
    "    return sorted_embeddings[original_order]"
   ]
  },
  {
   "cell_type": "code",
   "execution_count": 23,
   "metadata": {
    "execution": {
     "iopub.execute_input": "2025-05-27T12:59:35.098014Z",
     "iopub.status.busy": "2025-05-27T12:59:35.097807Z",
     "iopub.status.idle": "2025-05-27T12:59:35.113393Z",
     "shell.execute_reply": "2025-05-27T12:59:35.112756Z",
     "shell.execute_reply.started": "2025-05-27T12:59:35.097992Z"
    },
    "trusted": true
   },
   "outputs": [],
   "source": [
    "def encode_batch(texts):\n",
    "    features = jobbert.tokenize(texts)\n",
    "    features = batch_to_device(features, jobbert.device)\n",
    "    features[\"text_keys\"] = [\"anchor\"]\n",
    "    with torch.no_grad():\n",
    "        out_features = jobbert.forward(features)\n",
    "    return out_features[\"sentence_embedding\"].cpu().numpy()\n",
    "\n",
    "def encode(texts, batch_size = 1024):\n",
    "    # Sort texts by length and keep track of original indices\n",
    "    sorted_indices = np.argsort([len(text) for text in texts])\n",
    "    sorted_texts = [texts[i] for i in sorted_indices]\n",
    "    \n",
    "    embeddings = []\n",
    "    \n",
    "    # Encode in batches\n",
    "    for i in tqdm(range(0, len(sorted_texts), batch_size)):\n",
    "        batch = sorted_texts[i:i+batch_size]\n",
    "        embeddings.append(encode_batch(batch))\n",
    "    \n",
    "    # Concatenate embeddings and reorder to original indices\n",
    "    sorted_embeddings = np.concatenate(embeddings)\n",
    "    original_order = np.argsort(sorted_indices)\n",
    "    return sorted_embeddings[original_order]"
   ]
  },
  {
   "cell_type": "code",
   "execution_count": 24,
   "metadata": {
    "execution": {
     "iopub.execute_input": "2025-05-27T12:59:35.114328Z",
     "iopub.status.busy": "2025-05-27T12:59:35.114091Z",
     "iopub.status.idle": "2025-05-27T12:59:35.126146Z",
     "shell.execute_reply": "2025-05-27T12:59:35.125610Z",
     "shell.execute_reply.started": "2025-05-27T12:59:35.114309Z"
    },
    "trusted": true
   },
   "outputs": [],
   "source": [
    "# all_job_embedding = encode(all_jobs)\n",
    "# # all_skill_embedding = encode(all_skills)\n",
    "# query_embedding = encode(queries_texts)\n",
    "# # corpus_embedding = encode(corpus_texts)\n",
    "\n",
    "# job_sim = cos_sim(query_embedding, all_job_embedding)\n",
    "# # skill_sim = cos_sim(corpus_embedding, all_skill_embedding)"
   ]
  },
  {
   "cell_type": "code",
   "execution_count": 25,
   "metadata": {
    "execution": {
     "iopub.execute_input": "2025-05-27T12:59:35.127016Z",
     "iopub.status.busy": "2025-05-27T12:59:35.126776Z",
     "iopub.status.idle": "2025-05-27T12:59:35.142291Z",
     "shell.execute_reply": "2025-05-27T12:59:35.141777Z",
     "shell.execute_reply.started": "2025-05-27T12:59:35.127001Z"
    },
    "trusted": true
   },
   "outputs": [],
   "source": [
    "def get_matches_job(job_index, n=3, cutoff=0.7):\n",
    "    # embeddings = encode([job])\n",
    "    # sim = cos_sim(embeddings, all_job_embedding).squeeze()\n",
    "    sim = job_sim[job_index].squeeze()\n",
    "    matches = np.argsort(-sim)[:n]\n",
    "    return [all_jobs[i] for i in matches if sim[i]>cutoff]\n",
    "\n",
    "def get_matches_skill(skill_index, n=3, cutoff=0.7):\n",
    "    # embeddings = encode([skill])\n",
    "    # sim = cos_sim(embeddings, all_skill_embedding).squeeze()\n",
    "    sim = skill_sim[skill_index].squeeze()\n",
    "    matches = np.argsort(-sim)[:n]\n",
    "    return [all_skills[i] for i in matches if sim[i]>cutoff]"
   ]
  },
  {
   "cell_type": "code",
   "execution_count": 26,
   "metadata": {
    "execution": {
     "iopub.execute_input": "2025-05-27T12:59:35.143512Z",
     "iopub.status.busy": "2025-05-27T12:59:35.143196Z",
     "iopub.status.idle": "2025-05-27T12:59:35.160264Z",
     "shell.execute_reply": "2025-05-27T12:59:35.159657Z",
     "shell.execute_reply.started": "2025-05-27T12:59:35.143487Z"
    },
    "trusted": true
   },
   "outputs": [],
   "source": [
    "# job_template_desc = 'query: find skills related to the job {job} and its similar jobs and descriptions.'\n",
    "# skill_template_desc = 'passage: The skill {skill} has the following similar skills and their descriptions.'\n",
    "task = 'Given a job title and its description, retrieve relevant skills based on their descriptions'\n",
    "# task = 'Given a job title, retrieve relevant skills'\n",
    "\n",
    "\n",
    "if encoder_type == 'esco':\n",
    "    job_template = 'Job: {job}'\n",
    "    skill_template = 'Skill: {skill}'\n",
    "elif encoder_type == 'e5':\n",
    "    job_template = 'query: Job: {job}'\n",
    "    skill_template = 'passage: Skill: {skill}'\n",
    "elif encoder_type=='instruct':\n",
    "    job_template = f'Instruct: {task}\\nQuery: ' + 'Job: {job}'\n",
    "    skill_template = 'Skill: {skill}'\n",
    "# job_template_desc = 'query: Job: {job} [SEP] Description: {desc}'\n",
    "# skill_template_desc = 'passage: Skill: {skill} [SEP] Description: {desc}'\n",
    "\n",
    "if encoder_type == 'esco':\n",
    "    job_template_desc = 'Job: {job} [SEP] Description: {desc}'\n",
    "    skill_template_desc = 'Skill: {skill} [SEP] Description: {desc}'\n",
    "elif encoder_type == 'e5':\n",
    "    job_template_desc = 'query: Job: {job} [SEP] Description: {desc}'\n",
    "    skill_template_desc = 'passage: Skill: {skill} [SEP] Description: {desc}'\n",
    "elif encoder_type=='instruct':\n",
    "    job_template_desc = f'Instruct: {task}\\nQuery: ' + 'Job: {job} [SEP] Description: {desc}'\n",
    "    skill_template_desc = 'Skill: {skill} [SEP] Description: {desc}'\n",
    "\n",
    "# job_template_desc = '{job}'\n",
    "# skill_template_desc = '{skill}'\n",
    "\n",
    "# task = 'Given a job title and its related description, retreive skill descriptions that may be relevant to the job and its associated responsibilities'\n",
    "\n",
    "data = {'job': {'name_to_link': all_jobs_dict,\n",
    "                 'matcher': get_matches_job,\n",
    "                 'all_items': all_jobs,\n",
    "                 'template': job_template,\n",
    "                 'link_to_desc':job_link_desc},\n",
    "        'skill': {'name_to_link': all_skills_dict,\n",
    "                  'matcher': get_matches_skill,\n",
    "                  'all_items': all_skills,\n",
    "                  'template': skill_template_desc,\n",
    "                  'link_to_desc':skill_link_desc}}\n",
    "\n",
    "\n",
    "def get_descs(item, item_type, matcher='jobbert', n=1, cutoff=0.7, index=None, desc=True):\n",
    "    if matcher=='jobbert':\n",
    "        if desc:\n",
    "            matches = set([data[item_type]['name_to_link'][match] for match in data[item_type]['matcher'](index, cutoff=cutoff, n=n)])\n",
    "        else:\n",
    "            matches = set(data[item_type]['matcher'](index, cutoff=cutoff, n=n))\n",
    "    else:\n",
    "        matches = set([data[item_type]['name_to_link'][match] for match in difflib.get_close_matches(item, data[item_type]['all_items'], n=n, cutoff=cutoff)])\n",
    "    current_prompt = data[item_type]['template'].format(**{item_type: item})\n",
    "    for match in matches:\n",
    "        if desc:\n",
    "            # current_prompt = current_prompt + ' [SEP] Description: ' + data[item_type]['link_to_desc'][match]\n",
    "            current_prompt = current_prompt + ' [SEP] Description: ' + data[item_type]['link_to_desc'][match]\n",
    "        else:\n",
    "            current_prompt = current_prompt + ' [SEP] ' + match\n",
    "    return current_prompt\n",
    "\n",
    "def job_get_desc(job):\n",
    "    return job_template_desc.format(job=job, desc=val_descs[job])\n",
    "\n",
    "def skill_get_desc(skill):\n",
    "    return skill_template_desc.format(skill=skill, desc=skill_link_desc[val_skill_to_link[skill]])\n",
    "\n",
    "def get_detailed_instruct_desc(query):\n",
    "    return f'Instruct: {task}\\nQuery: {job_get_desc(query)}'"
   ]
  },
  {
   "cell_type": "code",
   "execution_count": 27,
   "metadata": {
    "execution": {
     "iopub.execute_input": "2025-05-27T12:59:35.161137Z",
     "iopub.status.busy": "2025-05-27T12:59:35.160923Z",
     "iopub.status.idle": "2025-05-27T12:59:35.172853Z",
     "shell.execute_reply": "2025-05-27T12:59:35.172257Z",
     "shell.execute_reply.started": "2025-05-27T12:59:35.161121Z"
    },
    "trusted": true
   },
   "outputs": [],
   "source": [
    "def get_validation_mAP(encoder, tokenizer, desc=True, **kwargs):\n",
    "    # if kwargs['n']==0:\n",
    "    #     jobs_with_desc = queries_texts\n",
    "    #     # skills_with_desc = corpus_texts\n",
    "    # else:\n",
    "    \n",
    "    # jobs_with_desc = [get_descs(j, 'job', index=i, **kwargs) for i, j in enumerate(tqdm(queries_texts))]\n",
    "    if desc:\n",
    "        jobs_with_desc = [job_get_desc(j) for j in queries_texts]\n",
    "        skills_with_desc = [skill_get_desc(s) for s in corpus_texts]\n",
    "    else:\n",
    "        jobs_with_desc = [job_template.format(job=j) for j in queries_texts]\n",
    "        skills_with_desc = [skill_template.format(skill=s) for s in corpus_texts]\n",
    "        # jobs_with_desc = queries_texts\n",
    "        # skills_with_desc = corpus_texts\n",
    "    job_embeddings = get_embeddings(jobs_with_desc, encoder=encoder, tokenizer=tokenizer, max_length=128, token='mean', batch_size=64)\n",
    "    skill_embeddings = get_embeddings(skills_with_desc, encoder=encoder, tokenizer=tokenizer, max_length=128, token='mean', batch_size=64)\n",
    "    similarities = cos_sim(job_embeddings, skill_embeddings).cpu().numpy()\n",
    "    return get_mAP(similarities)"
   ]
  },
  {
   "cell_type": "code",
   "execution_count": 28,
   "metadata": {
    "execution": {
     "iopub.execute_input": "2025-05-27T12:59:35.173941Z",
     "iopub.status.busy": "2025-05-27T12:59:35.173672Z",
     "iopub.status.idle": "2025-05-27T12:59:35.193248Z",
     "shell.execute_reply": "2025-05-27T12:59:35.192637Z",
     "shell.execute_reply.started": "2025-05-27T12:59:35.173919Z"
    },
    "trusted": true
   },
   "outputs": [],
   "source": [
    "class MultiNDataset(torch.utils.data.Dataset):\n",
    "    def __init__(self, pairs, encoder='e5', ):\n",
    "        self.pairs = pairs\n",
    "        self.encoder = encoder\n",
    "\n",
    "    def __getitem__(self, idx):\n",
    "        job_id, skill_ids = self.pairs[idx]\n",
    "        job_alias = np.random.choice(jobid2name[job_id])\n",
    "        skill_id = np.random.choice(skill_ids)\n",
    "        # job = np.random.choice(jobid2name[job_id])\n",
    "        # skill = np.random.choice(skillid2name[skill_id])\n",
    "        # job = 'query: Job: ' + np.random.choice(jobid2name[job_id]) + ' [SEP] Description: ' + train_descs[job_id]\n",
    "        # skill = 'passage: Skill:' + np.random.choice(skillid2name[skill_id]) + ' [SEP] Description: ' + skill_link_desc[skill_id]\n",
    "        # job = 'Instruct: Given a job title, retrieve relevant skills based on their descriptions\\nQuery: Job: ' + np.random.choice(jobid2name[job_id])\n",
    "        if self.encoder == 'esco':\n",
    "            job = 'Job: ' + job_alias + ' [SEP] Description: ' + train_descs[job_alias]\n",
    "            skill = 'Skill:' + np.random.choice(skillid2name[skill_id]) + ' [SEP] Description: ' + skill_link_desc[skill_id]\n",
    "        elif self.encoder == 'e5':\n",
    "            job = 'query: Job: ' + job_alias + ' [SEP] Description: ' + train_descs[job_alias]\n",
    "            skill = 'passage: Skill:' + np.random.choice(skillid2name[skill_id]) + ' [SEP] Description: ' + skill_link_desc[skill_id]\n",
    "        elif encoder_type=='instruct':\n",
    "            job = 'Instruct: Given a job title and its description, retrieve relevant skills based on their descriptions\\nQuery: Job: ' + job_alias + ' [SEP] Description: ' + train_descs[job_alias]\n",
    "            skill = 'Skill:' + np.random.choice(skillid2name[skill_id]) + ' [SEP] Description: ' + skill_link_desc[skill_id]\n",
    "        # if self.encoder == 'esco':\n",
    "        #     job = 'Job: ' + job_alias \n",
    "        #     skill = 'Skill:' + np.random.choice(skillid2name[skill_id])\n",
    "        # elif self.encoder == 'e5':\n",
    "        #     job = 'query: Job: ' + job_alias\n",
    "        #     skill = 'passage: Skill:' + np.random.choice(skillid2name[skill_id])\n",
    "        # elif self.encoder == 'instruct':\n",
    "        #     job = 'Instruct: Given a job title, retrieve relevant skills\\nQuery: Job: ' + job_alias \n",
    "        #     skill = 'Skill:' + np.random.choice(skillid2name[skill_id])\n",
    "\n",
    "        # if self.encoder == 'esco':\n",
    "        #     job = 'Job: ' + job_alias + ' [SEP] Description: ' + job_link_desc[job_id]\n",
    "        #     skill = 'Skill:' + np.random.choice(skillid2name[skill_id]) + ' [SEP] Description: ' + skill_link_desc[skill_id]\n",
    "        # elif self.encoder == 'e5':\n",
    "        #     job = 'query: Job: ' + job_alias + ' [SEP] Description: ' + job_link_desc[job_id]\n",
    "        #     skill = 'passage: Skill:' + np.random.choice(skillid2name[skill_id]) + ' [SEP] Description: ' + skill_link_desc[skill_id]\n",
    "        # elif self.encoder == 'instruct':\n",
    "        #     job = 'Instruct: Given a job title and its description, retrieve relevant skills based on their descriptions\\nQuery: Job: ' + job_alias + ' [SEP] Description: ' + job_link_desc[job_id]\n",
    "        #     skill = 'Skill:' + np.random.choice(skillid2name[skill_id]) + ' [SEP] Description: ' + skill_link_desc[skill_id]\n",
    "        \n",
    "        item = {'job': job, 'skill': skill}\n",
    "        return item\n",
    "\n",
    "    def __len__(self):\n",
    "        return len(self.pairs)\n",
    "\n",
    "def custom_collate_fn(batch, tokenizer, max_length):\n",
    "    \"\"\"\n",
    "    Takes a list of dictionaries from JobSkillDataset.__getitem__.\n",
    "    Tokenizes job and skill texts separately and pads them dynamically per batch.\n",
    "    \"\"\"\n",
    "    job_texts = [item['job'] for item in batch]\n",
    "    skill_texts = [item['skill'] for item in batch]\n",
    "\n",
    "    # Tokenize jobs and skills separately\n",
    "    tokenized_jobs = tokenizer(job_texts, padding=True, truncation=True, max_length=max_length, return_tensors='pt')\n",
    "    tokenized_skills = tokenizer(skill_texts, padding=True, truncation=True, max_length=max_length, return_tensors='pt')\n",
    "\n",
    "    return {\n",
    "        'jobs': tokenized_jobs,\n",
    "        'skills': tokenized_skills\n",
    "    }\n",
    "\n",
    "train_multin_dataset = MultiNDataset(multindata, encoder=encoder_type)"
   ]
  },
  {
   "cell_type": "code",
   "execution_count": 29,
   "metadata": {
    "execution": {
     "iopub.execute_input": "2025-05-27T12:59:35.196606Z",
     "iopub.status.busy": "2025-05-27T12:59:35.196421Z",
     "iopub.status.idle": "2025-05-27T12:59:35.209840Z",
     "shell.execute_reply": "2025-05-27T12:59:35.209125Z",
     "shell.execute_reply.started": "2025-05-27T12:59:35.196586Z"
    },
    "trusted": true
   },
   "outputs": [],
   "source": [
    "collate_wrapper = partial(custom_collate_fn, tokenizer=tokenizer, max_length=256)"
   ]
  },
  {
   "cell_type": "code",
   "execution_count": 30,
   "metadata": {
    "execution": {
     "iopub.execute_input": "2025-05-27T12:59:35.210770Z",
     "iopub.status.busy": "2025-05-27T12:59:35.210543Z",
     "iopub.status.idle": "2025-05-27T12:59:35.224722Z",
     "shell.execute_reply": "2025-05-27T12:59:35.224206Z",
     "shell.execute_reply.started": "2025-05-27T12:59:35.210729Z"
    },
    "trusted": true
   },
   "outputs": [],
   "source": [
    "batch_size = 4\n",
    "\n",
    "train_loader = DataLoader(train_multin_dataset, batch_size=batch_size, shuffle=True, collate_fn=collate_wrapper)\n",
    "# train_loader = DataLoader(train_dataset, batch_size=batch_size, shuffle=True)\n",
    "# val_loader = DataLoader(val_dataset, batch_size=batch_size, shuffle=True)"
   ]
  },
  {
   "cell_type": "code",
   "execution_count": 31,
   "metadata": {
    "execution": {
     "iopub.execute_input": "2025-05-27T12:59:35.225859Z",
     "iopub.status.busy": "2025-05-27T12:59:35.225581Z",
     "iopub.status.idle": "2025-05-27T12:59:35.238669Z",
     "shell.execute_reply": "2025-05-27T12:59:35.238120Z",
     "shell.execute_reply.started": "2025-05-27T12:59:35.225843Z"
    },
    "trusted": true
   },
   "outputs": [],
   "source": [
    "best_val_mAP = 0"
   ]
  },
  {
   "cell_type": "code",
   "execution_count": 32,
   "metadata": {
    "execution": {
     "iopub.execute_input": "2025-05-27T12:59:35.239652Z",
     "iopub.status.busy": "2025-05-27T12:59:35.239462Z",
     "iopub.status.idle": "2025-05-27T12:59:35.252185Z",
     "shell.execute_reply": "2025-05-27T12:59:35.251473Z",
     "shell.execute_reply.started": "2025-05-27T12:59:35.239637Z"
    },
    "trusted": true
   },
   "outputs": [],
   "source": [
    "# saved_data = torch.load('best_model_e5_large_llm_desc_mAP.pt')\n",
    "# # encoder.load_state_dict(saved_data['weights'])\n",
    "# best_val_mAP = saved_data[\"mAP\"]\n",
    "# print(f'Saved val mAP: {saved_data[\"mAP\"]}')"
   ]
  },
  {
   "cell_type": "code",
   "execution_count": 33,
   "metadata": {
    "execution": {
     "iopub.execute_input": "2025-05-27T12:59:35.253635Z",
     "iopub.status.busy": "2025-05-27T12:59:35.253090Z",
     "iopub.status.idle": "2025-05-27T12:59:35.266788Z",
     "shell.execute_reply": "2025-05-27T12:59:35.266277Z",
     "shell.execute_reply.started": "2025-05-27T12:59:35.253609Z"
    },
    "trusted": true
   },
   "outputs": [],
   "source": [
    "num_epochs = 20\n",
    "gradient_accumulation_steps = 16\n",
    "\n",
    "# optimizer_grouped_parameters = [\n",
    "#     {\n",
    "#         \"params\": model.encoder.parameters(),\n",
    "#         \"lr\": 1e-5,\n",
    "#     },\n",
    "#     {\n",
    "#         \"params\": model.classifier.parameters(),\n",
    "#         \"lr\": 1e-3,\n",
    "#     },\n",
    "# ]\n",
    "optim = torch.optim.AdamW(encoder.parameters(), lr=1e-5, betas=(0.9, 0.98))\n",
    "# optim = torch.optim.AdamW(optimizer_grouped_parameters, betas=(0.9, 0.98))\n",
    "num_training_steps = (len(train_loader) * num_epochs) // gradient_accumulation_steps\n",
    "num_warmup_steps = int(0.06 * num_training_steps)  # 6% warmup\n",
    "\n",
    "scheduler = get_linear_schedule_with_warmup(\n",
    "    optim,\n",
    "    num_warmup_steps=num_warmup_steps,\n",
    "    num_training_steps=num_training_steps,\n",
    ")"
   ]
  },
  {
   "cell_type": "code",
   "execution_count": 34,
   "metadata": {
    "execution": {
     "iopub.execute_input": "2025-05-27T12:59:35.267702Z",
     "iopub.status.busy": "2025-05-27T12:59:35.267458Z",
     "iopub.status.idle": "2025-05-27T12:59:35.280480Z",
     "shell.execute_reply": "2025-05-27T12:59:35.279791Z",
     "shell.execute_reply.started": "2025-05-27T12:59:35.267673Z"
    },
    "trusted": true
   },
   "outputs": [],
   "source": [
    "def calculate_mnrl_loss(job_embeds, skill_embeds, temperature):\n",
    "     # Normalize embeddings for stable cosine similarity calculation\n",
    "    job_embeds = F.normalize(job_embeds, p=2, dim=1)\n",
    "    skill_embeds = F.normalize(skill_embeds, p=2, dim=1)\n",
    "\n",
    "    # Calculate cosine similarity matrix (num_jobs x num_skills)\n",
    "    # Assumes job_embeds[i] corresponds to skill_embeds[i] as the positive pair\n",
    "    similarity_matrix = torch.matmul(job_embeds, skill_embeds.T) # (batch_size, batch_size)\n",
    "\n",
    "    # Scale similarities by temperature\n",
    "    similarity_matrix = similarity_matrix / temperature\n",
    "\n",
    "    # Create labels: Target for job_i is skill_i (the diagonal element)\n",
    "    batch_size = job_embeds.size(0)\n",
    "    labels = torch.arange(batch_size, dtype=torch.long, device=job_embeds.device)\n",
    "\n",
    "    # Calculate CrossEntropyLoss\n",
    "    # The loss encourages the diagonal similarity (positive pair) to be higher\n",
    "    # than the off-diagonal similarities (negative pairs in the batch)\n",
    "    loss = F.cross_entropy(similarity_matrix, labels)\n",
    "    return loss"
   ]
  },
  {
   "cell_type": "code",
   "execution_count": 35,
   "metadata": {
    "execution": {
     "iopub.execute_input": "2025-05-27T12:59:35.281437Z",
     "iopub.status.busy": "2025-05-27T12:59:35.281247Z",
     "iopub.status.idle": "2025-05-27T12:59:35.297523Z",
     "shell.execute_reply": "2025-05-27T12:59:35.296905Z",
     "shell.execute_reply.started": "2025-05-27T12:59:35.281422Z"
    },
    "trusted": true
   },
   "outputs": [],
   "source": [
    "# get_validation_mAP(encoder, tokenizer, desc=False)"
   ]
  },
  {
   "cell_type": "code",
   "execution_count": 36,
   "metadata": {
    "execution": {
     "iopub.execute_input": "2025-05-27T12:59:35.298494Z",
     "iopub.status.busy": "2025-05-27T12:59:35.298254Z",
     "iopub.status.idle": "2025-05-27T15:05:37.117772Z",
     "shell.execute_reply": "2025-05-27T15:05:37.117106Z",
     "shell.execute_reply.started": "2025-05-27T12:59:35.298473Z"
    },
    "trusted": true
   },
   "outputs": [
    {
     "name": "stderr",
     "output_type": "stream",
     "text": [
      "Epoch 1/20: 100%|██████████| 753/753 [04:47<00:00,  2.62it/s, loss=0.6804, lr=8.39e-06]\n",
      "100%|██████████| 5/5 [00:03<00:00,  1.60it/s]\n",
      "100%|██████████| 156/156 [01:12<00:00,  2.15it/s]\n"
     ]
    },
    {
     "name": "stdout",
     "output_type": "stream",
     "text": [
      "Epoch 1 finished. Train loss: 0.6796127066404557, Validation mAP: 0.2879\n"
     ]
    },
    {
     "name": "stderr",
     "output_type": "stream",
     "text": [
      "Epoch 2/20: 100%|██████████| 753/753 [04:45<00:00,  2.64it/s, loss=0.4865, lr=9.57e-06]\n",
      "100%|██████████| 5/5 [00:03<00:00,  1.60it/s]\n",
      "100%|██████████| 156/156 [01:12<00:00,  2.15it/s]\n"
     ]
    },
    {
     "name": "stdout",
     "output_type": "stream",
     "text": [
      "Epoch 2 finished. Train loss: 0.4861311547156389, Validation mAP: 0.2965\n"
     ]
    },
    {
     "name": "stderr",
     "output_type": "stream",
     "text": [
      "Epoch 3/20: 100%|██████████| 753/753 [04:47<00:00,  2.62it/s, loss=0.4426, lr=9.04e-06]\n",
      "100%|██████████| 5/5 [00:03<00:00,  1.60it/s]\n",
      "100%|██████████| 156/156 [01:12<00:00,  2.15it/s]\n"
     ]
    },
    {
     "name": "stdout",
     "output_type": "stream",
     "text": [
      "Epoch 3 finished. Train loss: 0.442061758390535, Validation mAP: 0.2886\n"
     ]
    },
    {
     "name": "stderr",
     "output_type": "stream",
     "text": [
      "Epoch 4/20: 100%|██████████| 753/753 [04:46<00:00,  2.63it/s, loss=0.4117, lr=8.51e-06]\n",
      "100%|██████████| 5/5 [00:03<00:00,  1.60it/s]\n",
      "100%|██████████| 156/156 [01:12<00:00,  2.15it/s]\n"
     ]
    },
    {
     "name": "stdout",
     "output_type": "stream",
     "text": [
      "Epoch 4 finished. Train loss: 0.41117260915669085, Validation mAP: 0.3068\n"
     ]
    },
    {
     "name": "stderr",
     "output_type": "stream",
     "text": [
      "Epoch 5/20: 100%|██████████| 753/753 [04:46<00:00,  2.63it/s, loss=0.4058, lr=7.98e-06]\n",
      "100%|██████████| 5/5 [00:03<00:00,  1.60it/s]\n",
      "100%|██████████| 156/156 [01:12<00:00,  2.15it/s]\n"
     ]
    },
    {
     "name": "stdout",
     "output_type": "stream",
     "text": [
      "Epoch 5 finished. Train loss: 0.4052561366501429, Validation mAP: 0.2977\n"
     ]
    },
    {
     "name": "stderr",
     "output_type": "stream",
     "text": [
      "Epoch 6/20: 100%|██████████| 753/753 [04:46<00:00,  2.63it/s, loss=0.4181, lr=7.45e-06]\n",
      "100%|██████████| 5/5 [00:03<00:00,  1.61it/s]\n",
      "100%|██████████| 156/156 [01:12<00:00,  2.15it/s]\n"
     ]
    },
    {
     "name": "stdout",
     "output_type": "stream",
     "text": [
      "Epoch 6 finished. Train loss: 0.4177436054948437, Validation mAP: 0.2865\n"
     ]
    },
    {
     "name": "stderr",
     "output_type": "stream",
     "text": [
      "Epoch 7/20: 100%|██████████| 753/753 [04:45<00:00,  2.63it/s, loss=0.3748, lr=6.92e-06]\n",
      "100%|██████████| 5/5 [00:03<00:00,  1.60it/s]\n",
      "100%|██████████| 156/156 [01:12<00:00,  2.15it/s]\n"
     ]
    },
    {
     "name": "stdout",
     "output_type": "stream",
     "text": [
      "Epoch 7 finished. Train loss: 0.3750236303090077, Validation mAP: 0.3089\n"
     ]
    },
    {
     "name": "stderr",
     "output_type": "stream",
     "text": [
      "Epoch 8/20: 100%|██████████| 753/753 [04:47<00:00,  2.62it/s, loss=0.3746, lr=6.38e-06]\n",
      "100%|██████████| 5/5 [00:03<00:00,  1.60it/s]\n",
      "100%|██████████| 156/156 [01:12<00:00,  2.15it/s]\n"
     ]
    },
    {
     "name": "stdout",
     "output_type": "stream",
     "text": [
      "Epoch 8 finished. Train loss: 0.37484617538341714, Validation mAP: 0.2891\n"
     ]
    },
    {
     "name": "stderr",
     "output_type": "stream",
     "text": [
      "Epoch 9/20: 100%|██████████| 753/753 [04:47<00:00,  2.62it/s, loss=0.3759, lr=5.85e-06]\n",
      "100%|██████████| 5/5 [00:03<00:00,  1.60it/s]\n",
      "100%|██████████| 156/156 [01:12<00:00,  2.15it/s]\n"
     ]
    },
    {
     "name": "stdout",
     "output_type": "stream",
     "text": [
      "Epoch 9 finished. Train loss: 0.3754318961030296, Validation mAP: 0.3014\n"
     ]
    },
    {
     "name": "stderr",
     "output_type": "stream",
     "text": [
      "Epoch 10/20: 100%|██████████| 753/753 [04:48<00:00,  2.61it/s, loss=0.3725, lr=5.32e-06]\n",
      "100%|██████████| 5/5 [00:03<00:00,  1.60it/s]\n",
      "100%|██████████| 156/156 [01:12<00:00,  2.15it/s]\n"
     ]
    },
    {
     "name": "stdout",
     "output_type": "stream",
     "text": [
      "Epoch 10 finished. Train loss: 0.3725572721774481, Validation mAP: 0.2962\n"
     ]
    },
    {
     "name": "stderr",
     "output_type": "stream",
     "text": [
      "Epoch 11/20: 100%|██████████| 753/753 [04:46<00:00,  2.63it/s, loss=0.3537, lr=4.79e-06]\n",
      "100%|██████████| 5/5 [00:03<00:00,  1.60it/s]\n",
      "100%|██████████| 156/156 [01:12<00:00,  2.15it/s]\n"
     ]
    },
    {
     "name": "stdout",
     "output_type": "stream",
     "text": [
      "Epoch 11 finished. Train loss: 0.35351244319362657, Validation mAP: 0.2919\n"
     ]
    },
    {
     "name": "stderr",
     "output_type": "stream",
     "text": [
      "Epoch 12/20: 100%|██████████| 753/753 [04:47<00:00,  2.62it/s, loss=0.3911, lr=4.26e-06]\n",
      "100%|██████████| 5/5 [00:03<00:00,  1.61it/s]\n",
      "100%|██████████| 156/156 [01:12<00:00,  2.15it/s]\n"
     ]
    },
    {
     "name": "stdout",
     "output_type": "stream",
     "text": [
      "Epoch 12 finished. Train loss: 0.390665951244141, Validation mAP: 0.3006\n"
     ]
    },
    {
     "name": "stderr",
     "output_type": "stream",
     "text": [
      "Epoch 13/20: 100%|██████████| 753/753 [04:46<00:00,  2.63it/s, loss=0.3306, lr=3.73e-06]\n",
      "100%|██████████| 5/5 [00:03<00:00,  1.60it/s]\n",
      "100%|██████████| 156/156 [01:12<00:00,  2.15it/s]\n"
     ]
    },
    {
     "name": "stdout",
     "output_type": "stream",
     "text": [
      "Epoch 13 finished. Train loss: 0.3302177362418257, Validation mAP: 0.2852\n"
     ]
    },
    {
     "name": "stderr",
     "output_type": "stream",
     "text": [
      "Epoch 14/20: 100%|██████████| 753/753 [04:46<00:00,  2.62it/s, loss=0.3677, lr=3.20e-06]\n",
      "100%|██████████| 5/5 [00:03<00:00,  1.60it/s]\n",
      "100%|██████████| 156/156 [01:12<00:00,  2.15it/s]\n"
     ]
    },
    {
     "name": "stdout",
     "output_type": "stream",
     "text": [
      "Epoch 14 finished. Train loss: 0.3672526498847492, Validation mAP: 0.2928\n"
     ]
    },
    {
     "name": "stderr",
     "output_type": "stream",
     "text": [
      "Epoch 15/20: 100%|██████████| 753/753 [04:48<00:00,  2.61it/s, loss=0.3575, lr=2.67e-06]\n",
      "100%|██████████| 5/5 [00:03<00:00,  1.60it/s]\n",
      "100%|██████████| 156/156 [01:12<00:00,  2.14it/s]\n"
     ]
    },
    {
     "name": "stdout",
     "output_type": "stream",
     "text": [
      "Epoch 15 finished. Train loss: 0.3572203112671221, Validation mAP: 0.2974\n"
     ]
    },
    {
     "name": "stderr",
     "output_type": "stream",
     "text": [
      "Epoch 16/20: 100%|██████████| 753/753 [04:45<00:00,  2.63it/s, loss=0.3276, lr=2.14e-06]\n",
      "100%|██████████| 5/5 [00:03<00:00,  1.60it/s]\n",
      "100%|██████████| 156/156 [01:12<00:00,  2.15it/s]\n"
     ]
    },
    {
     "name": "stdout",
     "output_type": "stream",
     "text": [
      "Epoch 16 finished. Train loss: 0.3271920457711922, Validation mAP: 0.2941\n"
     ]
    },
    {
     "name": "stderr",
     "output_type": "stream",
     "text": [
      "Epoch 17/20: 100%|██████████| 753/753 [04:48<00:00,  2.61it/s, loss=0.3387, lr=1.60e-06]\n",
      "100%|██████████| 5/5 [00:03<00:00,  1.60it/s]\n",
      "100%|██████████| 156/156 [01:12<00:00,  2.15it/s]\n"
     ]
    },
    {
     "name": "stdout",
     "output_type": "stream",
     "text": [
      "Epoch 17 finished. Train loss: 0.3392146856857295, Validation mAP: 0.2976\n"
     ]
    },
    {
     "name": "stderr",
     "output_type": "stream",
     "text": [
      "Epoch 18/20: 100%|██████████| 753/753 [04:48<00:00,  2.61it/s, loss=0.3473, lr=1.07e-06]\n",
      "100%|██████████| 5/5 [00:03<00:00,  1.60it/s]\n",
      "100%|██████████| 156/156 [01:12<00:00,  2.15it/s]\n"
     ]
    },
    {
     "name": "stdout",
     "output_type": "stream",
     "text": [
      "Epoch 18 finished. Train loss: 0.3485908088260231, Validation mAP: 0.2908\n"
     ]
    },
    {
     "name": "stderr",
     "output_type": "stream",
     "text": [
      "Epoch 19/20: 100%|██████████| 753/753 [04:46<00:00,  2.63it/s, loss=0.3294, lr=5.42e-07]\n",
      "100%|██████████| 5/5 [00:03<00:00,  1.60it/s]\n",
      "100%|██████████| 156/156 [01:12<00:00,  2.15it/s]\n"
     ]
    },
    {
     "name": "stdout",
     "output_type": "stream",
     "text": [
      "Epoch 19 finished. Train loss: 0.3289681336615444, Validation mAP: 0.2922\n"
     ]
    },
    {
     "name": "stderr",
     "output_type": "stream",
     "text": [
      "Epoch 20/20: 100%|██████████| 753/753 [04:49<00:00,  2.60it/s, loss=0.3414, lr=1.13e-08]\n",
      "100%|██████████| 5/5 [00:03<00:00,  1.60it/s]\n",
      "100%|██████████| 156/156 [01:12<00:00,  2.15it/s]\n"
     ]
    },
    {
     "name": "stdout",
     "output_type": "stream",
     "text": [
      "Epoch 20 finished. Train loss: 0.34101611860486053, Validation mAP: 0.2932\n"
     ]
    }
   ],
   "source": [
    "global_step = 0\n",
    "\n",
    "encoder.zero_grad()\n",
    "for epoch in range(num_epochs):\n",
    "    encoder.train()\n",
    "    train_loss = 0\n",
    "    pbar = tqdm(train_loader, desc=f\"Epoch {epoch+1}/{num_epochs}\", leave=True) # Keep pbar after loop\n",
    "    for step, batch in enumerate(pbar):\n",
    "        # Move batch to device (collate_fn already returns tensors)\n",
    "        job_inputs = {k: v.to(device) for k, v in batch['jobs'].items()}\n",
    "        skill_inputs = {k: v.to(device) for k, v in batch['skills'].items()}\n",
    "\n",
    "        # Forward pass through the base model\n",
    "        job_outputs = encoder(**job_inputs)\n",
    "        skill_outputs = encoder(**skill_inputs)\n",
    "\n",
    "        # Get embeddings using mean pooling\n",
    "        job_embeddings = average_pool(job_outputs.last_hidden_state, job_inputs['attention_mask'])\n",
    "        skill_embeddings = average_pool(skill_outputs.last_hidden_state, skill_inputs['attention_mask'])\n",
    "\n",
    "        # Calculate custom MNRL loss\n",
    "        loss = calculate_mnrl_loss(job_embeddings, skill_embeddings, temperature=0.05)\n",
    "\n",
    "        # --- Gradient Accumulation ---\n",
    "        # 1. Scale loss\n",
    "        loss = loss / gradient_accumulation_steps\n",
    "\n",
    "        # 2. Backward pass\n",
    "        loss.backward()\n",
    "\n",
    "        train_loss += loss.item() * gradient_accumulation_steps # Unscale for logging\n",
    "\n",
    "        # 3. Optimizer step (conditional)\n",
    "        if (step + 1) % gradient_accumulation_steps == 0:\n",
    "            torch.nn.utils.clip_grad_norm_(encoder.parameters(), max_norm=1.0) # Optional gradient clipping\n",
    "            optim.step()\n",
    "            scheduler.step()\n",
    "            optim.zero_grad() # Reset gradients *after* optimizer step\n",
    "            global_step += 1\n",
    "\n",
    "            # Update progress bar description with averaged loss for the epoch so far\n",
    "            avg_loss_so_far = train_loss / (step + 1)\n",
    "            pbar.set_postfix({'loss': f\"{avg_loss_so_far:.4f}\", 'lr': f\"{scheduler.get_last_lr()[0]:.2e}\"})\n",
    "\n",
    "\n",
    "    # --- End of Epoch ---\n",
    "    avg_epoch_loss = train_loss / len(train_loader)\n",
    "    \n",
    "    encoder.eval()\n",
    "    # validation_mAP = get_validation_mAP(encoder, tokenizer, n=1, desc=True, cutoff=0.9)\n",
    "    validation_mAP = get_validation_mAP(encoder, tokenizer, desc=True)\n",
    "    \n",
    "    print(f'Epoch {epoch+1} finished. Train loss: {avg_epoch_loss}, Validation mAP: {validation_mAP}')\n",
    "    if validation_mAP>best_val_mAP:\n",
    "        torch.save({'mAP': validation_mAP, 'weights': encoder.state_dict()}, f'best_model_{encoder_type}_l_llm_indiv_desc_mAP.pt')\n",
    "        best_val_mAP = validation_mAP"
   ]
  },
  {
   "cell_type": "code",
   "execution_count": 37,
   "metadata": {
    "execution": {
     "iopub.execute_input": "2025-05-27T15:05:37.119102Z",
     "iopub.status.busy": "2025-05-27T15:05:37.118775Z",
     "iopub.status.idle": "2025-05-27T15:05:37.123890Z",
     "shell.execute_reply": "2025-05-27T15:05:37.123223Z",
     "shell.execute_reply.started": "2025-05-27T15:05:37.119077Z"
    },
    "trusted": true
   },
   "outputs": [
    {
     "data": {
      "text/plain": [
       "0.3089"
      ]
     },
     "execution_count": 37,
     "metadata": {},
     "output_type": "execute_result"
    }
   ],
   "source": [
    "best_val_mAP"
   ]
  },
  {
   "cell_type": "code",
   "execution_count": 38,
   "metadata": {
    "execution": {
     "iopub.execute_input": "2025-05-27T15:05:37.124792Z",
     "iopub.status.busy": "2025-05-27T15:05:37.124572Z",
     "iopub.status.idle": "2025-05-27T15:05:37.137924Z",
     "shell.execute_reply": "2025-05-27T15:05:37.137315Z",
     "shell.execute_reply.started": "2025-05-27T15:05:37.124776Z"
    },
    "trusted": true
   },
   "outputs": [],
   "source": [
    "# get_validation_mAP(encoder, tokenizer)\n",
    "# get_validation_mAP(model.encoder, model.tokenizer)"
   ]
  },
  {
   "cell_type": "code",
   "execution_count": null,
   "metadata": {
    "trusted": true
   },
   "outputs": [],
   "source": []
  }
 ],
 "metadata": {
  "kaggle": {
   "accelerator": "gpu",
   "dataSources": [
    {
     "datasetId": 7305793,
     "sourceId": 11748350,
     "sourceType": "datasetVersion"
    }
   ],
   "dockerImageVersionId": 31041,
   "isGpuEnabled": true,
   "isInternetEnabled": true,
   "language": "python",
   "sourceType": "notebook"
  },
  "kernelspec": {
   "display_name": "Python 3",
   "language": "python",
   "name": "python3"
  },
  "language_info": {
   "codemirror_mode": {
    "name": "ipython",
    "version": 3
   },
   "file_extension": ".py",
   "mimetype": "text/x-python",
   "name": "python",
   "nbconvert_exporter": "python",
   "pygments_lexer": "ipython3",
   "version": "3.11.11"
  }
 },
 "nbformat": 4,
 "nbformat_minor": 4
}
